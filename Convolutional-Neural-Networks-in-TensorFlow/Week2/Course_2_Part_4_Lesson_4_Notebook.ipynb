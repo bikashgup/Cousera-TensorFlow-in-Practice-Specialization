{
  "nbformat": 4,
  "nbformat_minor": 0,
  "metadata": {
    "accelerator": "GPU",
    "colab": {
      "name": "Course 2 - Part 4 - Lesson 4 - Notebook.ipynb",
      "provenance": [],
      "collapsed_sections": [],
      "toc_visible": true
    },
    "kernelspec": {
      "display_name": "Python 3",
      "name": "python3"
    }
  },
  "cells": [
    {
      "cell_type": "markdown",
      "metadata": {
        "colab_type": "text",
        "id": "rX8mhOLljYeM"
      },
      "source": [
        "##### Copyright 2019 The TensorFlow Authors."
      ]
    },
    {
      "cell_type": "code",
      "metadata": {
        "cellView": "form",
        "colab_type": "code",
        "id": "BZSlp3DAjdYf",
        "colab": {}
      },
      "source": [
        "#@title Licensed under the Apache License, Version 2.0 (the \"License\");\n",
        "# you may not use this file except in compliance with the License.\n",
        "# You may obtain a copy of the License at\n",
        "#\n",
        "# https://www.apache.org/licenses/LICENSE-2.0\n",
        "#\n",
        "# Unless required by applicable law or agreed to in writing, software\n",
        "# distributed under the License is distributed on an \"AS IS\" BASIS,\n",
        "# WITHOUT WARRANTIES OR CONDITIONS OF ANY KIND, either express or implied.\n",
        "# See the License for the specific language governing permissions and\n",
        "# limitations under the License."
      ],
      "execution_count": 1,
      "outputs": []
    },
    {
      "cell_type": "code",
      "metadata": {
        "colab_type": "code",
        "id": "RXZT2UsyIVe_",
        "colab": {
          "base_uri": "https://localhost:8080/",
          "height": 375
        },
        "outputId": "b5cbd11e-481c-4f8c-8e6b-07d3ce85609c"
      },
      "source": [
        "!wget --no-check-certificate \\\n",
        "    https://storage.googleapis.com/laurencemoroney-blog.appspot.com/horse-or-human.zip \\\n",
        "    -O /tmp/horse-or-human.zip\n",
        "\n",
        "!wget --no-check-certificate \\\n",
        "    https://storage.googleapis.com/laurencemoroney-blog.appspot.com/validation-horse-or-human.zip \\\n",
        "    -O /tmp/validation-horse-or-human.zip\n",
        "  \n",
        "import os\n",
        "import zipfile\n",
        "\n",
        "local_zip = '/tmp/horse-or-human.zip'\n",
        "zip_ref = zipfile.ZipFile(local_zip, 'r')\n",
        "zip_ref.extractall('/tmp/horse-or-human')\n",
        "local_zip = '/tmp/validation-horse-or-human.zip'\n",
        "zip_ref = zipfile.ZipFile(local_zip, 'r')\n",
        "zip_ref.extractall('/tmp/validation-horse-or-human')\n",
        "zip_ref.close()\n",
        "# Directory with our training horse pictures\n",
        "train_horse_dir = os.path.join('/tmp/horse-or-human/horses')\n",
        "\n",
        "# Directory with our training human pictures\n",
        "train_human_dir = os.path.join('/tmp/horse-or-human/humans')\n",
        "\n",
        "# Directory with our training horse pictures\n",
        "validation_horse_dir = os.path.join('/tmp/validation-horse-or-human/horses')\n",
        "\n",
        "# Directory with our training human pictures\n",
        "validation_human_dir = os.path.join('/tmp/validation-horse-or-human/humans')"
      ],
      "execution_count": 2,
      "outputs": [
        {
          "output_type": "stream",
          "text": [
            "--2020-08-11 05:37:20--  https://storage.googleapis.com/laurencemoroney-blog.appspot.com/horse-or-human.zip\n",
            "Resolving storage.googleapis.com (storage.googleapis.com)... 173.194.198.128, 108.177.112.128, 172.217.212.128, ...\n",
            "Connecting to storage.googleapis.com (storage.googleapis.com)|173.194.198.128|:443... connected.\n",
            "HTTP request sent, awaiting response... 200 OK\n",
            "Length: 149574867 (143M) [application/zip]\n",
            "Saving to: ‘/tmp/horse-or-human.zip’\n",
            "\n",
            "\r/tmp/horse-or-human   0%[                    ]       0  --.-KB/s               \r/tmp/horse-or-human  21%[===>                ]  31.26M   156MB/s               \r/tmp/horse-or-human  55%[==========>         ]  78.87M   197MB/s               \r/tmp/horse-or-human  76%[==============>     ] 109.30M   182MB/s               \r/tmp/horse-or-human  94%[=================>  ] 134.17M   168MB/s               \r/tmp/horse-or-human 100%[===================>] 142.65M   168MB/s    in 0.8s    \n",
            "\n",
            "2020-08-11 05:37:21 (168 MB/s) - ‘/tmp/horse-or-human.zip’ saved [149574867/149574867]\n",
            "\n",
            "--2020-08-11 05:37:25--  https://storage.googleapis.com/laurencemoroney-blog.appspot.com/validation-horse-or-human.zip\n",
            "Resolving storage.googleapis.com (storage.googleapis.com)... 74.125.70.128, 74.125.202.128, 173.194.194.128, ...\n",
            "Connecting to storage.googleapis.com (storage.googleapis.com)|74.125.70.128|:443... connected.\n",
            "HTTP request sent, awaiting response... 200 OK\n",
            "Length: 11480187 (11M) [application/zip]\n",
            "Saving to: ‘/tmp/validation-horse-or-human.zip’\n",
            "\n",
            "/tmp/validation-hor 100%[===================>]  10.95M  --.-KB/s    in 0.1s    \n",
            "\n",
            "2020-08-11 05:37:25 (90.2 MB/s) - ‘/tmp/validation-horse-or-human.zip’ saved [11480187/11480187]\n",
            "\n"
          ],
          "name": "stdout"
        }
      ]
    },
    {
      "cell_type": "markdown",
      "metadata": {
        "colab_type": "text",
        "id": "5oqBkNBJmtUv"
      },
      "source": [
        "## Building a Small Model from Scratch\n",
        "\n",
        "But before we continue, let's start defining the model:\n",
        "\n",
        "Step 1 will be to import tensorflow."
      ]
    },
    {
      "cell_type": "code",
      "metadata": {
        "colab_type": "code",
        "id": "qvfZg3LQbD-5",
        "colab": {}
      },
      "source": [
        "import tensorflow as tf"
      ],
      "execution_count": 3,
      "outputs": []
    },
    {
      "cell_type": "markdown",
      "metadata": {
        "colab_type": "text",
        "id": "BnhYCP4tdqjC"
      },
      "source": [
        "We then add convolutional layers as in the previous example, and flatten the final result to feed into the densely connected layers."
      ]
    },
    {
      "cell_type": "markdown",
      "metadata": {
        "colab_type": "text",
        "id": "gokG5HKpdtzm"
      },
      "source": [
        "Finally we add the densely connected layers. \n",
        "\n",
        "Note that because we are facing a two-class classification problem, i.e. a *binary classification problem*, we will end our network with a [*sigmoid* activation](https://wikipedia.org/wiki/Sigmoid_function), so that the output of our network will be a single scalar between 0 and 1, encoding the probability that the current image is class 1 (as opposed to class 0)."
      ]
    },
    {
      "cell_type": "code",
      "metadata": {
        "colab_type": "code",
        "id": "PixZ2s5QbYQ3",
        "colab": {}
      },
      "source": [
        "model = tf.keras.models.Sequential([\n",
        "    # Note the input shape is the desired size of the image 300x300 with 3 bytes color\n",
        "    # This is the first convolution\n",
        "    tf.keras.layers.Conv2D(16, (3,3), activation='relu', input_shape=(300, 300, 3)),\n",
        "    tf.keras.layers.MaxPooling2D(2, 2),\n",
        "    # The second convolution\n",
        "    tf.keras.layers.Conv2D(32, (3,3), activation='relu'),\n",
        "    tf.keras.layers.MaxPooling2D(2,2),\n",
        "    # The third convolution\n",
        "    tf.keras.layers.Conv2D(64, (3,3), activation='relu'),\n",
        "    tf.keras.layers.MaxPooling2D(2,2),\n",
        "    # The fourth convolution\n",
        "    tf.keras.layers.Conv2D(64, (3,3), activation='relu'),\n",
        "    tf.keras.layers.MaxPooling2D(2,2),\n",
        "    # The fifth convolution\n",
        "    tf.keras.layers.Conv2D(64, (3,3), activation='relu'),\n",
        "    tf.keras.layers.MaxPooling2D(2,2),\n",
        "    # Flatten the results to feed into a DNN\n",
        "    tf.keras.layers.Flatten(),\n",
        "    # 512 neuron hidden layer\n",
        "    tf.keras.layers.Dense(512, activation='relu'),\n",
        "    # Only 1 output neuron. It will contain a value from 0-1 where 0 for 1 class ('horses') and 1 for the other ('humans')\n",
        "    tf.keras.layers.Dense(1, activation='sigmoid')\n",
        "])"
      ],
      "execution_count": 4,
      "outputs": []
    },
    {
      "cell_type": "code",
      "metadata": {
        "colab_type": "code",
        "id": "8DHWhFP_uhq3",
        "colab": {}
      },
      "source": [
        "from tensorflow.keras.optimizers import RMSprop\n",
        "\n",
        "model.compile(loss='binary_crossentropy',\n",
        "              optimizer=RMSprop(lr=1e-4),\n",
        "              metrics=['accuracy'])"
      ],
      "execution_count": 5,
      "outputs": []
    },
    {
      "cell_type": "code",
      "metadata": {
        "colab_type": "code",
        "id": "ClebU9NJg99G",
        "colab": {
          "base_uri": "https://localhost:8080/",
          "height": 50
        },
        "outputId": "0b8a7ece-c5f4-467c-dea6-7e2fa49e667e"
      },
      "source": [
        "from tensorflow.keras.preprocessing.image import ImageDataGenerator\n",
        "\n",
        "# All images will be rescaled by 1./255\n",
        "train_datagen = ImageDataGenerator(\n",
        "      rescale=1./255,\n",
        "      rotation_range=40,\n",
        "      width_shift_range=0.2,\n",
        "      height_shift_range=0.2,\n",
        "      shear_range=0.2,\n",
        "      zoom_range=0.2,\n",
        "      horizontal_flip=True,\n",
        "      fill_mode='nearest')\n",
        "\n",
        "validation_datagen = ImageDataGenerator(rescale=1/255)\n",
        "\n",
        "# Flow training images in batches of 128 using train_datagen generator\n",
        "train_generator = train_datagen.flow_from_directory(\n",
        "        '/tmp/horse-or-human/',  # This is the source directory for training images\n",
        "        target_size=(300, 300),  # All images will be resized to 150x150\n",
        "        batch_size=128,\n",
        "        # Since we use binary_crossentropy loss, we need binary labels\n",
        "        class_mode='binary')\n",
        "\n",
        "# Flow training images in batches of 128 using train_datagen generator\n",
        "validation_generator = validation_datagen.flow_from_directory(\n",
        "        '/tmp/validation-horse-or-human/',  # This is the source directory for training images\n",
        "        target_size=(300, 300),  # All images will be resized to 150x150\n",
        "        batch_size=32,\n",
        "        # Since we use binary_crossentropy loss, we need binary labels\n",
        "        class_mode='binary')"
      ],
      "execution_count": 6,
      "outputs": [
        {
          "output_type": "stream",
          "text": [
            "Found 1027 images belonging to 2 classes.\n",
            "Found 256 images belonging to 2 classes.\n"
          ],
          "name": "stdout"
        }
      ]
    },
    {
      "cell_type": "code",
      "metadata": {
        "colab_type": "code",
        "id": "Fb1_lgobv81m",
        "colab": {
          "base_uri": "https://localhost:8080/",
          "height": 1000
        },
        "outputId": "ded8d2ed-bdc3-45bb-bc88-3d61c2c41425"
      },
      "source": [
        "history = model.fit(\n",
        "      train_generator,\n",
        "      steps_per_epoch=8,  \n",
        "      epochs=100,\n",
        "      verbose=1,\n",
        "      validation_data = validation_generator,\n",
        "      validation_steps=8)"
      ],
      "execution_count": 7,
      "outputs": [
        {
          "output_type": "stream",
          "text": [
            "Epoch 1/100\n",
            "8/8 [==============================] - 20s 2s/step - loss: 0.6881 - accuracy: 0.5028 - val_loss: 0.6718 - val_accuracy: 0.5547\n",
            "Epoch 2/100\n",
            "8/8 [==============================] - 22s 3s/step - loss: 0.6679 - accuracy: 0.6340 - val_loss: 0.6383 - val_accuracy: 0.7969\n",
            "Epoch 3/100\n",
            "8/8 [==============================] - 23s 3s/step - loss: 0.6349 - accuracy: 0.6507 - val_loss: 0.6009 - val_accuracy: 0.8516\n",
            "Epoch 4/100\n",
            "8/8 [==============================] - 23s 3s/step - loss: 0.6380 - accuracy: 0.6429 - val_loss: 0.6007 - val_accuracy: 0.6094\n",
            "Epoch 5/100\n",
            "8/8 [==============================] - 22s 3s/step - loss: 0.6311 - accuracy: 0.6863 - val_loss: 0.6756 - val_accuracy: 0.5156\n",
            "Epoch 6/100\n",
            "8/8 [==============================] - 24s 3s/step - loss: 0.5710 - accuracy: 0.7578 - val_loss: 0.6140 - val_accuracy: 0.5664\n",
            "Epoch 7/100\n",
            "8/8 [==============================] - 25s 3s/step - loss: 0.5529 - accuracy: 0.7341 - val_loss: 0.6493 - val_accuracy: 0.5547\n",
            "Epoch 8/100\n",
            "8/8 [==============================] - 22s 3s/step - loss: 0.5021 - accuracy: 0.7620 - val_loss: 0.7957 - val_accuracy: 0.5312\n",
            "Epoch 9/100\n",
            "8/8 [==============================] - 22s 3s/step - loss: 0.5233 - accuracy: 0.7553 - val_loss: 0.7521 - val_accuracy: 0.5430\n",
            "Epoch 10/100\n",
            "8/8 [==============================] - 25s 3s/step - loss: 0.4700 - accuracy: 0.7686 - val_loss: 0.6860 - val_accuracy: 0.5898\n",
            "Epoch 11/100\n",
            "8/8 [==============================] - 22s 3s/step - loss: 0.4964 - accuracy: 0.7575 - val_loss: 0.8399 - val_accuracy: 0.5508\n",
            "Epoch 12/100\n",
            "8/8 [==============================] - 21s 3s/step - loss: 0.4473 - accuracy: 0.7998 - val_loss: 0.8408 - val_accuracy: 0.5664\n",
            "Epoch 13/100\n",
            "8/8 [==============================] - 24s 3s/step - loss: 0.4815 - accuracy: 0.7720 - val_loss: 1.2163 - val_accuracy: 0.5195\n",
            "Epoch 14/100\n",
            "8/8 [==============================] - 21s 3s/step - loss: 0.4500 - accuracy: 0.7786 - val_loss: 0.9081 - val_accuracy: 0.5703\n",
            "Epoch 15/100\n",
            "8/8 [==============================] - 22s 3s/step - loss: 0.4825 - accuracy: 0.7753 - val_loss: 0.9993 - val_accuracy: 0.5625\n",
            "Epoch 16/100\n",
            "8/8 [==============================] - 21s 3s/step - loss: 0.4550 - accuracy: 0.7831 - val_loss: 0.9439 - val_accuracy: 0.5742\n",
            "Epoch 17/100\n",
            "8/8 [==============================] - 21s 3s/step - loss: 0.4089 - accuracy: 0.8098 - val_loss: 0.7266 - val_accuracy: 0.6641\n",
            "Epoch 18/100\n",
            "8/8 [==============================] - 22s 3s/step - loss: 0.4580 - accuracy: 0.7809 - val_loss: 0.9522 - val_accuracy: 0.5977\n",
            "Epoch 19/100\n",
            "8/8 [==============================] - 22s 3s/step - loss: 0.4227 - accuracy: 0.8031 - val_loss: 1.3971 - val_accuracy: 0.5469\n",
            "Epoch 20/100\n",
            "8/8 [==============================] - 21s 3s/step - loss: 0.3665 - accuracy: 0.8265 - val_loss: 1.0078 - val_accuracy: 0.5938\n",
            "Epoch 21/100\n",
            "8/8 [==============================] - 24s 3s/step - loss: 0.3832 - accuracy: 0.8242 - val_loss: 1.1642 - val_accuracy: 0.5859\n",
            "Epoch 22/100\n",
            "8/8 [==============================] - 21s 3s/step - loss: 0.3982 - accuracy: 0.8154 - val_loss: 0.9989 - val_accuracy: 0.5977\n",
            "Epoch 23/100\n",
            "8/8 [==============================] - 24s 3s/step - loss: 0.3533 - accuracy: 0.8465 - val_loss: 0.8030 - val_accuracy: 0.6719\n",
            "Epoch 24/100\n",
            "8/8 [==============================] - 24s 3s/step - loss: 0.3607 - accuracy: 0.8398 - val_loss: 1.6488 - val_accuracy: 0.5469\n",
            "Epoch 25/100\n",
            "8/8 [==============================] - 22s 3s/step - loss: 0.3421 - accuracy: 0.8443 - val_loss: 1.5609 - val_accuracy: 0.5664\n",
            "Epoch 26/100\n",
            "8/8 [==============================] - 22s 3s/step - loss: 0.3664 - accuracy: 0.8265 - val_loss: 1.9952 - val_accuracy: 0.5234\n",
            "Epoch 27/100\n",
            "8/8 [==============================] - 21s 3s/step - loss: 0.3080 - accuracy: 0.8632 - val_loss: 2.3823 - val_accuracy: 0.5039\n",
            "Epoch 28/100\n",
            "8/8 [==============================] - 23s 3s/step - loss: 0.3525 - accuracy: 0.8311 - val_loss: 1.7546 - val_accuracy: 0.5508\n",
            "Epoch 29/100\n",
            "8/8 [==============================] - 21s 3s/step - loss: 0.3884 - accuracy: 0.8276 - val_loss: 1.0218 - val_accuracy: 0.6367\n",
            "Epoch 30/100\n",
            "8/8 [==============================] - 21s 3s/step - loss: 0.2918 - accuracy: 0.8776 - val_loss: 1.3707 - val_accuracy: 0.5820\n",
            "Epoch 31/100\n",
            "8/8 [==============================] - 21s 3s/step - loss: 0.3910 - accuracy: 0.8076 - val_loss: 1.2528 - val_accuracy: 0.5859\n",
            "Epoch 32/100\n",
            "8/8 [==============================] - 23s 3s/step - loss: 0.2770 - accuracy: 0.8984 - val_loss: 1.5729 - val_accuracy: 0.5742\n",
            "Epoch 33/100\n",
            "8/8 [==============================] - 21s 3s/step - loss: 0.2663 - accuracy: 0.8966 - val_loss: 1.7118 - val_accuracy: 0.5703\n",
            "Epoch 34/100\n",
            "8/8 [==============================] - 21s 3s/step - loss: 0.3209 - accuracy: 0.8632 - val_loss: 1.7210 - val_accuracy: 0.5664\n",
            "Epoch 35/100\n",
            "8/8 [==============================] - 21s 3s/step - loss: 0.3034 - accuracy: 0.8676 - val_loss: 1.9592 - val_accuracy: 0.5625\n",
            "Epoch 36/100\n",
            "8/8 [==============================] - 21s 3s/step - loss: 0.3037 - accuracy: 0.8598 - val_loss: 1.6287 - val_accuracy: 0.5820\n",
            "Epoch 37/100\n",
            "8/8 [==============================] - 21s 3s/step - loss: 0.2650 - accuracy: 0.8954 - val_loss: 1.4981 - val_accuracy: 0.6172\n",
            "Epoch 38/100\n",
            "8/8 [==============================] - 21s 3s/step - loss: 0.2515 - accuracy: 0.8921 - val_loss: 2.0943 - val_accuracy: 0.5586\n",
            "Epoch 39/100\n",
            "8/8 [==============================] - 21s 3s/step - loss: 0.3349 - accuracy: 0.8676 - val_loss: 2.1698 - val_accuracy: 0.5625\n",
            "Epoch 40/100\n",
            "8/8 [==============================] - 21s 3s/step - loss: 0.2526 - accuracy: 0.9010 - val_loss: 1.6058 - val_accuracy: 0.6133\n",
            "Epoch 41/100\n",
            "8/8 [==============================] - 22s 3s/step - loss: 0.3173 - accuracy: 0.8610 - val_loss: 1.3801 - val_accuracy: 0.6211\n",
            "Epoch 42/100\n",
            "8/8 [==============================] - 22s 3s/step - loss: 0.3155 - accuracy: 0.8610 - val_loss: 1.6923 - val_accuracy: 0.5977\n",
            "Epoch 43/100\n",
            "8/8 [==============================] - 22s 3s/step - loss: 0.2621 - accuracy: 0.8943 - val_loss: 1.4699 - val_accuracy: 0.6289\n",
            "Epoch 44/100\n",
            "8/8 [==============================] - 21s 3s/step - loss: 0.2242 - accuracy: 0.9143 - val_loss: 2.1148 - val_accuracy: 0.5859\n",
            "Epoch 45/100\n",
            "8/8 [==============================] - 21s 3s/step - loss: 0.3477 - accuracy: 0.8476 - val_loss: 1.9668 - val_accuracy: 0.5977\n",
            "Epoch 46/100\n",
            "8/8 [==============================] - 21s 3s/step - loss: 0.2300 - accuracy: 0.9066 - val_loss: 2.4883 - val_accuracy: 0.5352\n",
            "Epoch 47/100\n",
            "8/8 [==============================] - 24s 3s/step - loss: 0.2435 - accuracy: 0.9072 - val_loss: 1.8925 - val_accuracy: 0.6055\n",
            "Epoch 48/100\n",
            "8/8 [==============================] - 22s 3s/step - loss: 0.2122 - accuracy: 0.9166 - val_loss: 1.2769 - val_accuracy: 0.6797\n",
            "Epoch 49/100\n",
            "8/8 [==============================] - 22s 3s/step - loss: 0.3044 - accuracy: 0.8732 - val_loss: 1.8239 - val_accuracy: 0.6211\n",
            "Epoch 50/100\n",
            "8/8 [==============================] - 25s 3s/step - loss: 0.2159 - accuracy: 0.9066 - val_loss: 2.7990 - val_accuracy: 0.5391\n",
            "Epoch 51/100\n",
            "8/8 [==============================] - 22s 3s/step - loss: 0.2493 - accuracy: 0.8877 - val_loss: 2.0022 - val_accuracy: 0.6094\n",
            "Epoch 52/100\n",
            "8/8 [==============================] - 22s 3s/step - loss: 0.2403 - accuracy: 0.9010 - val_loss: 1.5737 - val_accuracy: 0.6367\n",
            "Epoch 53/100\n",
            "8/8 [==============================] - 22s 3s/step - loss: 0.1897 - accuracy: 0.9321 - val_loss: 1.0108 - val_accuracy: 0.7227\n",
            "Epoch 54/100\n",
            "8/8 [==============================] - 24s 3s/step - loss: 0.2210 - accuracy: 0.9082 - val_loss: 2.1967 - val_accuracy: 0.5781\n",
            "Epoch 55/100\n",
            "8/8 [==============================] - 21s 3s/step - loss: 0.2652 - accuracy: 0.8810 - val_loss: 1.6331 - val_accuracy: 0.6250\n",
            "Epoch 56/100\n",
            "8/8 [==============================] - 21s 3s/step - loss: 0.2445 - accuracy: 0.9043 - val_loss: 0.8265 - val_accuracy: 0.7422\n",
            "Epoch 57/100\n",
            "8/8 [==============================] - 21s 3s/step - loss: 0.2112 - accuracy: 0.9155 - val_loss: 2.8496 - val_accuracy: 0.5547\n",
            "Epoch 58/100\n",
            "8/8 [==============================] - 21s 3s/step - loss: 0.1937 - accuracy: 0.9155 - val_loss: 4.3044 - val_accuracy: 0.5078\n",
            "Epoch 59/100\n",
            "8/8 [==============================] - 21s 3s/step - loss: 0.2595 - accuracy: 0.8966 - val_loss: 2.4207 - val_accuracy: 0.5781\n",
            "Epoch 60/100\n",
            "8/8 [==============================] - 24s 3s/step - loss: 0.2190 - accuracy: 0.9132 - val_loss: 2.2477 - val_accuracy: 0.6172\n",
            "Epoch 61/100\n",
            "8/8 [==============================] - 21s 3s/step - loss: 0.2446 - accuracy: 0.8943 - val_loss: 3.1037 - val_accuracy: 0.5391\n",
            "Epoch 62/100\n",
            "8/8 [==============================] - 24s 3s/step - loss: 0.1752 - accuracy: 0.9346 - val_loss: 2.3624 - val_accuracy: 0.6094\n",
            "Epoch 63/100\n",
            "8/8 [==============================] - 21s 3s/step - loss: 0.2656 - accuracy: 0.8865 - val_loss: 1.6064 - val_accuracy: 0.6523\n",
            "Epoch 64/100\n",
            "8/8 [==============================] - 21s 3s/step - loss: 0.1712 - accuracy: 0.9299 - val_loss: 1.5380 - val_accuracy: 0.6836\n",
            "Epoch 65/100\n",
            "8/8 [==============================] - 21s 3s/step - loss: 0.1685 - accuracy: 0.9299 - val_loss: 2.2567 - val_accuracy: 0.6172\n",
            "Epoch 66/100\n",
            "8/8 [==============================] - 21s 3s/step - loss: 0.1992 - accuracy: 0.9244 - val_loss: 2.9967 - val_accuracy: 0.5547\n",
            "Epoch 67/100\n",
            "8/8 [==============================] - 21s 3s/step - loss: 0.2580 - accuracy: 0.8932 - val_loss: 2.0905 - val_accuracy: 0.6211\n",
            "Epoch 68/100\n",
            "8/8 [==============================] - 21s 3s/step - loss: 0.1395 - accuracy: 0.9555 - val_loss: 2.3227 - val_accuracy: 0.6172\n",
            "Epoch 69/100\n",
            "8/8 [==============================] - 21s 3s/step - loss: 0.2523 - accuracy: 0.9066 - val_loss: 1.7843 - val_accuracy: 0.6367\n",
            "Epoch 70/100\n",
            "8/8 [==============================] - 21s 3s/step - loss: 0.1881 - accuracy: 0.9143 - val_loss: 1.7257 - val_accuracy: 0.6562\n",
            "Epoch 71/100\n",
            "8/8 [==============================] - 21s 3s/step - loss: 0.2132 - accuracy: 0.9177 - val_loss: 2.4686 - val_accuracy: 0.6016\n",
            "Epoch 72/100\n",
            "8/8 [==============================] - 23s 3s/step - loss: 0.1474 - accuracy: 0.9453 - val_loss: 1.7185 - val_accuracy: 0.6680\n",
            "Epoch 73/100\n",
            "8/8 [==============================] - 21s 3s/step - loss: 0.1396 - accuracy: 0.9533 - val_loss: 2.7091 - val_accuracy: 0.5898\n",
            "Epoch 74/100\n",
            "8/8 [==============================] - 21s 3s/step - loss: 0.1707 - accuracy: 0.9221 - val_loss: 1.5706 - val_accuracy: 0.6797\n",
            "Epoch 75/100\n",
            "8/8 [==============================] - 21s 3s/step - loss: 0.1459 - accuracy: 0.9388 - val_loss: 2.2369 - val_accuracy: 0.6328\n",
            "Epoch 76/100\n",
            "8/8 [==============================] - 21s 3s/step - loss: 0.1955 - accuracy: 0.9199 - val_loss: 1.3542 - val_accuracy: 0.7070\n",
            "Epoch 77/100\n",
            "8/8 [==============================] - 24s 3s/step - loss: 0.1705 - accuracy: 0.9232 - val_loss: 1.1064 - val_accuracy: 0.7266\n",
            "Epoch 78/100\n",
            "8/8 [==============================] - 23s 3s/step - loss: 0.1431 - accuracy: 0.9482 - val_loss: 2.7978 - val_accuracy: 0.5820\n",
            "Epoch 79/100\n",
            "8/8 [==============================] - 21s 3s/step - loss: 0.1661 - accuracy: 0.9355 - val_loss: 2.6640 - val_accuracy: 0.6016\n",
            "Epoch 80/100\n",
            "8/8 [==============================] - 21s 3s/step - loss: 0.2511 - accuracy: 0.8810 - val_loss: 2.2896 - val_accuracy: 0.5898\n",
            "Epoch 81/100\n",
            "8/8 [==============================] - 21s 3s/step - loss: 0.1602 - accuracy: 0.9433 - val_loss: 2.2130 - val_accuracy: 0.6172\n",
            "Epoch 82/100\n",
            "8/8 [==============================] - 21s 3s/step - loss: 0.1361 - accuracy: 0.9499 - val_loss: 2.8285 - val_accuracy: 0.5625\n",
            "Epoch 83/100\n",
            "8/8 [==============================] - 21s 3s/step - loss: 0.1229 - accuracy: 0.9522 - val_loss: 2.5611 - val_accuracy: 0.6133\n",
            "Epoch 84/100\n",
            "8/8 [==============================] - 21s 3s/step - loss: 0.1717 - accuracy: 0.9232 - val_loss: 2.4996 - val_accuracy: 0.6094\n",
            "Epoch 85/100\n",
            "8/8 [==============================] - 20s 3s/step - loss: 0.1309 - accuracy: 0.9511 - val_loss: 3.3141 - val_accuracy: 0.5352\n",
            "Epoch 86/100\n",
            "8/8 [==============================] - 20s 3s/step - loss: 0.2271 - accuracy: 0.9010 - val_loss: 1.6968 - val_accuracy: 0.6523\n",
            "Epoch 87/100\n",
            "8/8 [==============================] - 21s 3s/step - loss: 0.1199 - accuracy: 0.9577 - val_loss: 2.0404 - val_accuracy: 0.6523\n",
            "Epoch 88/100\n",
            "8/8 [==============================] - 20s 3s/step - loss: 0.1141 - accuracy: 0.9633 - val_loss: 2.4507 - val_accuracy: 0.6406\n",
            "Epoch 89/100\n",
            "8/8 [==============================] - 21s 3s/step - loss: 0.1798 - accuracy: 0.9199 - val_loss: 2.4028 - val_accuracy: 0.6406\n",
            "Epoch 90/100\n",
            "8/8 [==============================] - 20s 3s/step - loss: 0.1068 - accuracy: 0.9600 - val_loss: 2.5103 - val_accuracy: 0.6367\n",
            "Epoch 91/100\n",
            "8/8 [==============================] - 23s 3s/step - loss: 0.1118 - accuracy: 0.9566 - val_loss: 1.9066 - val_accuracy: 0.6758\n",
            "Epoch 92/100\n",
            "8/8 [==============================] - 23s 3s/step - loss: 0.1423 - accuracy: 0.9531 - val_loss: 2.6460 - val_accuracy: 0.6406\n",
            "Epoch 93/100\n",
            "8/8 [==============================] - 20s 3s/step - loss: 0.1485 - accuracy: 0.9444 - val_loss: 2.4793 - val_accuracy: 0.6406\n",
            "Epoch 94/100\n",
            "8/8 [==============================] - 20s 3s/step - loss: 0.2194 - accuracy: 0.9277 - val_loss: 2.4109 - val_accuracy: 0.6406\n",
            "Epoch 95/100\n",
            "8/8 [==============================] - 20s 3s/step - loss: 0.0946 - accuracy: 0.9666 - val_loss: 2.4681 - val_accuracy: 0.6406\n",
            "Epoch 96/100\n",
            "8/8 [==============================] - 20s 3s/step - loss: 0.1290 - accuracy: 0.9466 - val_loss: 3.6169 - val_accuracy: 0.5469\n",
            "Epoch 97/100\n",
            "8/8 [==============================] - 20s 3s/step - loss: 0.2371 - accuracy: 0.9110 - val_loss: 2.2155 - val_accuracy: 0.6523\n",
            "Epoch 98/100\n",
            "8/8 [==============================] - 20s 3s/step - loss: 0.0952 - accuracy: 0.9644 - val_loss: 2.8004 - val_accuracy: 0.6211\n",
            "Epoch 99/100\n",
            "8/8 [==============================] - 21s 3s/step - loss: 0.1002 - accuracy: 0.9622 - val_loss: 3.1143 - val_accuracy: 0.6172\n",
            "Epoch 100/100\n",
            "8/8 [==============================] - 23s 3s/step - loss: 0.1292 - accuracy: 0.9521 - val_loss: 4.1803 - val_accuracy: 0.5469\n"
          ],
          "name": "stdout"
        }
      ]
    },
    {
      "cell_type": "code",
      "metadata": {
        "colab_type": "code",
        "id": "7zNPRWOVJdOH",
        "colab": {
          "base_uri": "https://localhost:8080/",
          "height": 545
        },
        "outputId": "114e8dfb-6f82-44aa-c8d9-98c673d79c8b"
      },
      "source": [
        "import matplotlib.pyplot as plt\n",
        "acc = history.history['accuracy']\n",
        "val_acc = history.history['val_accuracy']\n",
        "loss = history.history['loss']\n",
        "val_loss = history.history['val_loss']\n",
        "\n",
        "epochs = range(len(acc))\n",
        "\n",
        "plt.plot(epochs, acc, 'r', label='Training accuracy')\n",
        "plt.plot(epochs, val_acc, 'b', label='Validation accuracy')\n",
        "plt.title('Training and validation accuracy')\n",
        "\n",
        "plt.figure()\n",
        "\n",
        "plt.plot(epochs, loss, 'r', label='Training Loss')\n",
        "plt.plot(epochs, val_loss, 'b', label='Validation Loss')\n",
        "plt.title('Training and validation loss')\n",
        "plt.legend()\n",
        "\n",
        "plt.show()"
      ],
      "execution_count": 8,
      "outputs": [
        {
          "output_type": "display_data",
          "data": {
            "image/png": "[encoded data removed]",
            "text/plain": [
              "<Figure size 432x288 with 1 Axes>"
            ]
          },
          "metadata": {
            "tags": [],
            "needs_background": "light"
          }
        },
        {
          "output_type": "display_data",
          "data": {
            "image/png": "[encoded data removed]",
            "text/plain": [
              "<Figure size 432x288 with 1 Axes>"
            ]
          },
          "metadata": {
            "tags": [],
            "needs_background": "light"
          }
        }
      ]
    }
  ]
}