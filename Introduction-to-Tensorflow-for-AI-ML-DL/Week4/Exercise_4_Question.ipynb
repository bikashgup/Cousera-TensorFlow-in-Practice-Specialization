{
  "nbformat": 4,
  "nbformat_minor": 0,
  "metadata": {
    "colab": {
      "name": "Exercise 4-Question.ipynb",
      "provenance": []
    },
    "kernelspec": {
      "display_name": "Python 3",
      "name": "python3"
    }
  },
  "cells": [
    {
      "cell_type": "code",
      "metadata": {
        "id": "zX4Kg8DUTKWO",
        "colab_type": "code",
        "colab": {}
      },
      "source": [
        "#@title Licensed under the Apache License, Version 2.0 (the \"License\");\n",
        "# you may not use this file except in compliance with the License.\n",
        "# You may obtain a copy of the License at\n",
        "#\n",
        "# https://www.apache.org/licenses/LICENSE-2.0\n",
        "#\n",
        "# Unless required by applicable law or agreed to in writing, software\n",
        "# distributed under the License is distributed on an \"AS IS\" BASIS,\n",
        "# WITHOUT WARRANTIES OR CONDITIONS OF ANY KIND, either express or implied.\n",
        "# See the License for the specific language governing permissions and\n",
        "# limitations under the License."
      ],
      "execution_count": null,
      "outputs": []
    },
    {
      "cell_type": "markdown",
      "metadata": {
        "colab_type": "text",
        "id": "UncprnB0ymAE"
      },
      "source": [
        "Below is code with a link to a happy or sad dataset which contains 80 images, 40 happy and 40 sad. \n",
        "Create a convolutional neural network that trains to 100% accuracy on these images,  which cancels training upon hitting training accuracy of >.999\n",
        "\n",
        "Hint -- it will work best with 3 convolutional layers."
      ]
    },
    {
      "cell_type": "code",
      "metadata": {
        "colab_type": "code",
        "id": "7Vti6p3PxmpS",
        "colab": {
          "base_uri": "https://localhost:8080/",
          "height": 216
        },
        "outputId": "3176e49b-7da2-49f2-8f27-855a6295085f"
      },
      "source": [
        "import tensorflow as tf\n",
        "import os\n",
        "import zipfile\n",
        "\n",
        "\n",
        "DESIRED_ACCURACY = 0.999\n",
        "\n",
        "!wget --no-check-certificate \\\n",
        "    \"https://storage.googleapis.com/laurencemoroney-blog.appspot.com/happy-or-sad.zip\" \\\n",
        "    -O \"/tmp/happy-or-sad.zip\"\n",
        "\n",
        "zip_ref = zipfile.ZipFile(\"/tmp/happy-or-sad.zip\", 'r')\n",
        "zip_ref.extractall(\"/tmp/h-or-s\")\n",
        "zip_ref.close()\n",
        "\n",
        "class myCallback(tf.keras.callbacks.Callback):\n",
        "  def on_epoch_end(self, epoch, logs={}):\n",
        "    if(logs['accuracy']>DESIRED_ACCURACY):\n",
        "      print('\\nReached 99.9% accuracy so cancelling training!')\n",
        "      self.model.stop_training = True\n",
        "  # Your Code\n",
        "\n",
        "callbacks = myCallback()"
      ],
      "execution_count": 7,
      "outputs": [
        {
          "output_type": "stream",
          "text": [
            "--2020-07-12 20:08:20--  https://storage.googleapis.com/laurencemoroney-blog.appspot.com/happy-or-sad.zip\n",
            "Resolving storage.googleapis.com (storage.googleapis.com)... 74.125.26.128, 172.217.204.128, 172.217.203.128, ...\n",
            "Connecting to storage.googleapis.com (storage.googleapis.com)|74.125.26.128|:443... connected.\n",
            "HTTP request sent, awaiting response... 200 OK\n",
            "Length: 2670333 (2.5M) [application/zip]\n",
            "Saving to: ‘/tmp/happy-or-sad.zip’\n",
            "\n",
            "\r/tmp/happy-or-sad.z   0%[                    ]       0  --.-KB/s               \r/tmp/happy-or-sad.z 100%[===================>]   2.55M  --.-KB/s    in 0.02s   \n",
            "\n",
            "2020-07-12 20:08:20 (105 MB/s) - ‘/tmp/happy-or-sad.zip’ saved [2670333/2670333]\n",
            "\n"
          ],
          "name": "stdout"
        }
      ]
    },
    {
      "cell_type": "code",
      "metadata": {
        "colab_type": "code",
        "id": "6DLGbXXI1j_V",
        "colab": {}
      },
      "source": [
        "# This Code Block should Define and Compile the Model\n",
        "model = tf.keras.models.Sequential([\n",
        "      tf.keras.layers.Conv2D(16, (3,3), activation='relu', input_shape=(150,150,3)),\n",
        "      tf.keras.layers.MaxPooling2D(2,2),\n",
        "      tf.keras.layers.Conv2D(32, (3,3), activation='relu'),\n",
        "      tf.keras.layers.MaxPooling2D(2,2),\n",
        "      tf.keras.layers.Conv2D(64, (3,3), activation='relu'),\n",
        "      tf.keras.layers.MaxPooling2D(2,2),\n",
        "      tf.keras.layers.Flatten(),\n",
        "      tf.keras.layers.Dense(128, activation='relu'),\n",
        "      tf.keras.layers.Dense(1, activation='sigmoid')\n",
        "    ])\n",
        "\n",
        "from tensorflow.keras.optimizers import RMSprop\n",
        "\n",
        "model.compile(optimizer=RMSprop(lr=0.001), loss='binary_crossentropy', metrics=['accuracy'])\n"
      ],
      "execution_count": 8,
      "outputs": []
    },
    {
      "cell_type": "code",
      "metadata": {
        "colab_type": "code",
        "id": "4Ap9fUJE1vVu",
        "colab": {
          "base_uri": "https://localhost:8080/",
          "height": 33
        },
        "outputId": "04e33b86-8f47-4074-c7b3-9d6220ed8844"
      },
      "source": [
        "# This code block should create an instance of an ImageDataGenerator called train_datagen \n",
        "# And a train_generator by calling train_datagen.flow_from_directory\n",
        "\n",
        "from tensorflow.keras.preprocessing.image import ImageDataGenerator\n",
        "\n",
        "train_datagen = ImageDataGenerator(rescale=1/255)\n",
        "\n",
        "train_generator = train_datagen.flow_from_directory(\n",
        "    '/tmp/h-or-s',\n",
        "    target_size=(150,150),\n",
        "    class_mode='binary'\n",
        "    )\n",
        "\n",
        "# Expected output: 'Found 80 images belonging to 2 classes'"
      ],
      "execution_count": 9,
      "outputs": [
        {
          "output_type": "stream",
          "text": [
            "Found 80 images belonging to 2 classes.\n"
          ],
          "name": "stdout"
        }
      ]
    },
    {
      "cell_type": "code",
      "metadata": {
        "colab_type": "code",
        "id": "48dLm13U1-Le",
        "colab": {
          "base_uri": "https://localhost:8080/",
          "height": 537
        },
        "outputId": "1dbb25fb-4f5b-4b99-a3c2-0ee37d864911"
      },
      "source": [
        "# This code block should call model.fit and train for\n",
        "# a number of epochs. \n",
        "history = model.fit(\n",
        "    train_generator,\n",
        "    epochs=20,\n",
        "    callbacks=[callbacks])\n",
        "    \n",
        "# Expected output: \"Reached 99.9% accuracy so cancelling training!\"\""
      ],
      "execution_count": 10,
      "outputs": [
        {
          "output_type": "stream",
          "text": [
            "Epoch 1/20\n",
            "3/3 [==============================] - 1s 307ms/step - loss: 4.0776 - accuracy: 0.3750\n",
            "Epoch 2/20\n",
            "3/3 [==============================] - 1s 392ms/step - loss: 0.7062 - accuracy: 0.4500\n",
            "Epoch 3/20\n",
            "3/3 [==============================] - 1s 390ms/step - loss: 0.6709 - accuracy: 0.6750\n",
            "Epoch 4/20\n",
            "3/3 [==============================] - 1s 303ms/step - loss: 0.6427 - accuracy: 0.5000\n",
            "Epoch 5/20\n",
            "3/3 [==============================] - 1s 398ms/step - loss: 0.8706 - accuracy: 0.5500\n",
            "Epoch 6/20\n",
            "3/3 [==============================] - 1s 389ms/step - loss: 0.6264 - accuracy: 0.8250\n",
            "Epoch 7/20\n",
            "3/3 [==============================] - 1s 292ms/step - loss: 0.6320 - accuracy: 0.5250\n",
            "Epoch 8/20\n",
            "3/3 [==============================] - 1s 290ms/step - loss: 0.3756 - accuracy: 0.9750\n",
            "Epoch 9/20\n",
            "3/3 [==============================] - 1s 299ms/step - loss: 0.2704 - accuracy: 0.9750\n",
            "Epoch 10/20\n",
            "3/3 [==============================] - 1s 390ms/step - loss: 0.2140 - accuracy: 0.8875\n",
            "Epoch 11/20\n",
            "3/3 [==============================] - 1s 304ms/step - loss: 0.2103 - accuracy: 0.9375\n",
            "Epoch 12/20\n",
            "3/3 [==============================] - 1s 309ms/step - loss: 0.1038 - accuracy: 0.9875\n",
            "Epoch 13/20\n",
            "3/3 [==============================] - 1s 390ms/step - loss: 0.0833 - accuracy: 0.9625\n",
            "Epoch 14/20\n",
            "3/3 [==============================] - 1s 300ms/step - loss: 0.0916 - accuracy: 0.9875\n",
            "Epoch 15/20\n",
            "3/3 [==============================] - ETA: 0s - loss: 0.0262 - accuracy: 1.0000\n",
            "Reached 99.9% accuracy so cancelling training!\n",
            "3/3 [==============================] - 1s 392ms/step - loss: 0.0262 - accuracy: 1.0000\n"
          ],
          "name": "stdout"
        }
      ]
    }
  ]
}