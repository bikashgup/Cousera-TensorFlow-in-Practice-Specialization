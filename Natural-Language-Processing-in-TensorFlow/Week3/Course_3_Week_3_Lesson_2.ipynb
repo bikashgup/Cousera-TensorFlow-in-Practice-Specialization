{
  "nbformat": 4,
  "nbformat_minor": 0,
  "metadata": {
    "accelerator": "GPU",
    "colab": {
      "name": "Course 3 - Week 3 - Lesson 2.ipynb",
      "provenance": [],
      "collapsed_sections": [],
      "toc_visible": true
    },
    "kernelspec": {
      "display_name": "Python 3",
      "language": "python",
      "name": "python3"
    },
    "language_info": {
      "codemirror_mode": {
        "name": "ipython",
        "version": 3
      },
      "file_extension": ".py",
      "mimetype": "text/x-python",
      "name": "python",
      "nbconvert_exporter": "python",
      "pygments_lexer": "ipython3",
      "version": "3.7.6"
    }
  },
  "cells": [
    {
      "cell_type": "code",
      "metadata": {
        "colab_type": "code",
        "id": "zX4Kg8DUTKWO",
        "colab": {}
      },
      "source": [
        "#@title Licensed under the Apache License, Version 2.0 (the \"License\");\n",
        "# you may not use this file except in compliance with the License.\n",
        "# You may obtain a copy of the License at\n",
        "#\n",
        "# https://www.apache.org/licenses/LICENSE-2.0\n",
        "#\n",
        "# Unless required by applicable law or agreed to in writing, software\n",
        "# distributed under the License is distributed on an \"AS IS\" BASIS,\n",
        "# WITHOUT WARRANTIES OR CONDITIONS OF ANY KIND, either express or implied.\n",
        "# See the License for the specific language governing permissions and\n",
        "# limitations under the License."
      ],
      "execution_count": 1,
      "outputs": []
    },
    {
      "cell_type": "markdown",
      "metadata": {
        "id": "CHJLAU8PTzN2",
        "colab_type": "text"
      },
      "source": [
        "<a href=\"https://colab.research.google.com/github/lmoroney/dlaicourse/blob/master/TensorFlow%20In%20Practice/Course%203%20-%20NLP/Course%203%20-%20Week%203%20-%20Lesson%202.ipynb\" target=\"_parent\"><img src=\"https://colab.research.google.com/assets/colab-badge.svg\" alt=\"Open In Colab\"/></a>"
      ]
    },
    {
      "cell_type": "code",
      "metadata": {
        "colab_type": "code",
        "id": "jGwXGIXvFhXW",
        "colab": {
          "base_uri": "https://localhost:8080/",
          "height": 1000
        },
        "outputId": "c71166fc-fe7b-4b97-afcb-beacf13ce73a"
      },
      "source": [
        "import numpy as np\n",
        "\n",
        "import json\n",
        "import tensorflow as tf\n",
        "\n",
        "from tensorflow.keras.preprocessing.text import Tokenizer\n",
        "from tensorflow.keras.preprocessing.sequence import pad_sequences\n",
        "\n",
        "!wget --no-check-certificate \\\n",
        "    https://storage.googleapis.com/laurencemoroney-blog.appspot.com/sarcasm.json \\\n",
        "    -O /tmp/sarcasm.json\n",
        "\n",
        "vocab_size = 1000\n",
        "embedding_dim = 16\n",
        "max_length = 120\n",
        "trunc_type='post'\n",
        "padding_type='post'\n",
        "oov_tok = \"<OOV>\"\n",
        "training_size = 20000\n",
        "\n",
        "\n",
        "with open(\"/tmp/sarcasm.json\", 'r') as f:\n",
        "    datastore = json.load(f)\n",
        "\n",
        "\n",
        "sentences = []\n",
        "labels = []\n",
        "urls = []\n",
        "for item in datastore:\n",
        "    sentences.append(item['headline'])\n",
        "    labels.append(item['is_sarcastic'])\n",
        "\n",
        "training_sentences = sentences[0:training_size]\n",
        "testing_sentences = sentences[training_size:]\n",
        "training_labels = labels[0:training_size]\n",
        "testing_labels = labels[training_size:]\n",
        "\n",
        "tokenizer = Tokenizer(num_words=vocab_size, oov_token=oov_tok)\n",
        "tokenizer.fit_on_texts(training_sentences)\n",
        "\n",
        "word_index = tokenizer.word_index\n",
        "\n",
        "training_sequences = tokenizer.texts_to_sequences(training_sentences)\n",
        "training_padded = pad_sequences(training_sequences, maxlen=max_length, padding=padding_type, truncating=trunc_type)\n",
        "\n",
        "testing_sequences = tokenizer.texts_to_sequences(testing_sentences)\n",
        "testing_padded = pad_sequences(testing_sequences, maxlen=max_length, padding=padding_type, truncating=trunc_type)\n",
        "\n",
        "model = tf.keras.Sequential([\n",
        "    tf.keras.layers.Embedding(vocab_size, embedding_dim, input_length=max_length),\n",
        "    tf.keras.layers.Bidirectional(tf.keras.layers.LSTM(32)),\n",
        "    tf.keras.layers.Dense(24, activation='relu'),\n",
        "    tf.keras.layers.Dense(1, activation='sigmoid')\n",
        "])\n",
        "model.compile(loss='binary_crossentropy',optimizer='adam',metrics=['accuracy'])\n",
        "model.summary()\n",
        "\n",
        "num_epochs = 50\n",
        "training_padded = np.array(training_padded)\n",
        "training_labels = np.array(training_labels)\n",
        "testing_padded = np.array(testing_padded)\n",
        "testing_labels = np.array(testing_labels)\n",
        "history = model.fit(training_padded, training_labels, epochs=num_epochs, validation_data=(testing_padded, testing_labels), verbose=1)\n"
      ],
      "execution_count": 2,
      "outputs": [
        {
          "output_type": "stream",
          "text": [
            "--2020-08-20 05:20:40--  https://storage.googleapis.com/laurencemoroney-blog.appspot.com/sarcasm.json\n",
            "Resolving storage.googleapis.com (storage.googleapis.com)... 108.177.120.128, 173.194.194.128, 173.194.197.128, ...\n",
            "Connecting to storage.googleapis.com (storage.googleapis.com)|108.177.120.128|:443... connected.\n",
            "HTTP request sent, awaiting response... 200 OK\n",
            "Length: 5643545 (5.4M) [application/json]\n",
            "Saving to: ‘/tmp/sarcasm.json’\n",
            "\n",
            "\r/tmp/sarcasm.json     0%[                    ]       0  --.-KB/s               \r/tmp/sarcasm.json   100%[===================>]   5.38M  --.-KB/s    in 0.05s   \n",
            "\n",
            "2020-08-20 05:20:40 (108 MB/s) - ‘/tmp/sarcasm.json’ saved [5643545/5643545]\n",
            "\n",
            "Model: \"sequential\"\n",
            "_________________________________________________________________\n",
            "Layer (type)                 Output Shape              Param #   \n",
            "=================================================================\n",
            "embedding (Embedding)        (None, 120, 16)           16000     \n",
            "_________________________________________________________________\n",
            "bidirectional (Bidirectional (None, 64)                12544     \n",
            "_________________________________________________________________\n",
            "dense (Dense)                (None, 24)                1560      \n",
            "_________________________________________________________________\n",
            "dense_1 (Dense)              (None, 1)                 25        \n",
            "=================================================================\n",
            "Total params: 30,129\n",
            "Trainable params: 30,129\n",
            "Non-trainable params: 0\n",
            "_________________________________________________________________\n",
            "Epoch 1/50\n",
            "625/625 [==============================] - 38s 61ms/step - loss: 0.4547 - accuracy: 0.7707 - val_loss: 0.4210 - val_accuracy: 0.7980\n",
            "Epoch 2/50\n",
            "625/625 [==============================] - 37s 60ms/step - loss: 0.3585 - accuracy: 0.8341 - val_loss: 0.3832 - val_accuracy: 0.8220\n",
            "Epoch 3/50\n",
            "625/625 [==============================] - 37s 60ms/step - loss: 0.3433 - accuracy: 0.8420 - val_loss: 0.3916 - val_accuracy: 0.8205\n",
            "Epoch 4/50\n",
            "625/625 [==============================] - 37s 60ms/step - loss: 0.3239 - accuracy: 0.8554 - val_loss: 0.3708 - val_accuracy: 0.8325\n",
            "Epoch 5/50\n",
            "625/625 [==============================] - 37s 59ms/step - loss: 0.3118 - accuracy: 0.8625 - val_loss: 0.3780 - val_accuracy: 0.8301\n",
            "Epoch 6/50\n",
            "625/625 [==============================] - 37s 60ms/step - loss: 0.3022 - accuracy: 0.8652 - val_loss: 0.3730 - val_accuracy: 0.8338\n",
            "Epoch 7/50\n",
            "625/625 [==============================] - 37s 59ms/step - loss: 0.2946 - accuracy: 0.8704 - val_loss: 0.3829 - val_accuracy: 0.8332\n",
            "Epoch 8/50\n",
            "625/625 [==============================] - 37s 60ms/step - loss: 0.2843 - accuracy: 0.8734 - val_loss: 0.3867 - val_accuracy: 0.8271\n",
            "Epoch 9/50\n",
            "625/625 [==============================] - 37s 59ms/step - loss: 0.2767 - accuracy: 0.8785 - val_loss: 0.3936 - val_accuracy: 0.8298\n",
            "Epoch 10/50\n",
            "625/625 [==============================] - 37s 60ms/step - loss: 0.2688 - accuracy: 0.8809 - val_loss: 0.4060 - val_accuracy: 0.8284\n",
            "Epoch 11/50\n",
            "625/625 [==============================] - 37s 60ms/step - loss: 0.2636 - accuracy: 0.8829 - val_loss: 0.3969 - val_accuracy: 0.8283\n",
            "Epoch 12/50\n",
            "625/625 [==============================] - 37s 60ms/step - loss: 0.2555 - accuracy: 0.8874 - val_loss: 0.4140 - val_accuracy: 0.8272\n",
            "Epoch 13/50\n",
            "625/625 [==============================] - 37s 60ms/step - loss: 0.2502 - accuracy: 0.8921 - val_loss: 0.4031 - val_accuracy: 0.8262\n",
            "Epoch 14/50\n",
            "625/625 [==============================] - 37s 59ms/step - loss: 0.2424 - accuracy: 0.8933 - val_loss: 0.4187 - val_accuracy: 0.8210\n",
            "Epoch 15/50\n",
            "625/625 [==============================] - 36s 58ms/step - loss: 0.2347 - accuracy: 0.8990 - val_loss: 0.4338 - val_accuracy: 0.8267\n",
            "Epoch 16/50\n",
            "625/625 [==============================] - 36s 58ms/step - loss: 0.2269 - accuracy: 0.9033 - val_loss: 0.4468 - val_accuracy: 0.8256\n",
            "Epoch 17/50\n",
            "625/625 [==============================] - 36s 58ms/step - loss: 0.2200 - accuracy: 0.9061 - val_loss: 0.4555 - val_accuracy: 0.8229\n",
            "Epoch 18/50\n",
            "625/625 [==============================] - 36s 58ms/step - loss: 0.2108 - accuracy: 0.9097 - val_loss: 0.4883 - val_accuracy: 0.8222\n",
            "Epoch 19/50\n",
            "625/625 [==============================] - 36s 58ms/step - loss: 0.2040 - accuracy: 0.9133 - val_loss: 0.4921 - val_accuracy: 0.8216\n",
            "Epoch 20/50\n",
            "625/625 [==============================] - 36s 58ms/step - loss: 0.1945 - accuracy: 0.9166 - val_loss: 0.5496 - val_accuracy: 0.8193\n",
            "Epoch 21/50\n",
            "625/625 [==============================] - 36s 58ms/step - loss: 0.1893 - accuracy: 0.9197 - val_loss: 0.5173 - val_accuracy: 0.8188\n",
            "Epoch 22/50\n",
            "625/625 [==============================] - 37s 59ms/step - loss: 0.1806 - accuracy: 0.9246 - val_loss: 0.6093 - val_accuracy: 0.8137\n",
            "Epoch 23/50\n",
            "625/625 [==============================] - 37s 60ms/step - loss: 0.1761 - accuracy: 0.9262 - val_loss: 0.5933 - val_accuracy: 0.8164\n",
            "Epoch 24/50\n",
            "625/625 [==============================] - 37s 59ms/step - loss: 0.1650 - accuracy: 0.9314 - val_loss: 0.6424 - val_accuracy: 0.8079\n",
            "Epoch 25/50\n",
            "625/625 [==============================] - 37s 60ms/step - loss: 0.1621 - accuracy: 0.9325 - val_loss: 0.6490 - val_accuracy: 0.8149\n",
            "Epoch 26/50\n",
            "625/625 [==============================] - 37s 59ms/step - loss: 0.1528 - accuracy: 0.9368 - val_loss: 0.6898 - val_accuracy: 0.8111\n",
            "Epoch 27/50\n",
            "625/625 [==============================] - 37s 59ms/step - loss: 0.1461 - accuracy: 0.9402 - val_loss: 0.6991 - val_accuracy: 0.8037\n",
            "Epoch 28/50\n",
            "625/625 [==============================] - 37s 59ms/step - loss: 0.1431 - accuracy: 0.9414 - val_loss: 0.7465 - val_accuracy: 0.8064\n",
            "Epoch 29/50\n",
            "625/625 [==============================] - 37s 59ms/step - loss: 0.1362 - accuracy: 0.9429 - val_loss: 0.7686 - val_accuracy: 0.8065\n",
            "Epoch 30/50\n",
            "625/625 [==============================] - 37s 59ms/step - loss: 0.1278 - accuracy: 0.9474 - val_loss: 0.8105 - val_accuracy: 0.8095\n",
            "Epoch 31/50\n",
            "625/625 [==============================] - 37s 59ms/step - loss: 0.1234 - accuracy: 0.9499 - val_loss: 0.7858 - val_accuracy: 0.8052\n",
            "Epoch 32/50\n",
            "625/625 [==============================] - 37s 59ms/step - loss: 0.1181 - accuracy: 0.9517 - val_loss: 0.8347 - val_accuracy: 0.8067\n",
            "Epoch 33/50\n",
            "625/625 [==============================] - 37s 59ms/step - loss: 0.1126 - accuracy: 0.9549 - val_loss: 0.8931 - val_accuracy: 0.8047\n",
            "Epoch 34/50\n",
            "625/625 [==============================] - 37s 59ms/step - loss: 0.1049 - accuracy: 0.9563 - val_loss: 0.9887 - val_accuracy: 0.8103\n",
            "Epoch 35/50\n",
            "625/625 [==============================] - 37s 59ms/step - loss: 0.1004 - accuracy: 0.9591 - val_loss: 0.9741 - val_accuracy: 0.7994\n",
            "Epoch 36/50\n",
            "625/625 [==============================] - 37s 59ms/step - loss: 0.0965 - accuracy: 0.9596 - val_loss: 1.0415 - val_accuracy: 0.8076\n",
            "Epoch 37/50\n",
            "625/625 [==============================] - 37s 59ms/step - loss: 0.0924 - accuracy: 0.9622 - val_loss: 1.0609 - val_accuracy: 0.8040\n",
            "Epoch 38/50\n",
            "625/625 [==============================] - 37s 59ms/step - loss: 0.0874 - accuracy: 0.9650 - val_loss: 1.0896 - val_accuracy: 0.8032\n",
            "Epoch 39/50\n",
            "625/625 [==============================] - 37s 59ms/step - loss: 0.0851 - accuracy: 0.9661 - val_loss: 1.1032 - val_accuracy: 0.8035\n",
            "Epoch 40/50\n",
            "625/625 [==============================] - 36s 58ms/step - loss: 0.0843 - accuracy: 0.9649 - val_loss: 1.1539 - val_accuracy: 0.8022\n",
            "Epoch 41/50\n",
            "625/625 [==============================] - 36s 57ms/step - loss: 0.0814 - accuracy: 0.9665 - val_loss: 1.1405 - val_accuracy: 0.7977\n",
            "Epoch 42/50\n",
            "625/625 [==============================] - 36s 58ms/step - loss: 0.0746 - accuracy: 0.9696 - val_loss: 1.3049 - val_accuracy: 0.8007\n",
            "Epoch 43/50\n",
            "625/625 [==============================] - 36s 58ms/step - loss: 0.0705 - accuracy: 0.9716 - val_loss: 1.4184 - val_accuracy: 0.8031\n",
            "Epoch 44/50\n",
            "625/625 [==============================] - 36s 58ms/step - loss: 0.0654 - accuracy: 0.9739 - val_loss: 1.3476 - val_accuracy: 0.8065\n",
            "Epoch 45/50\n",
            "625/625 [==============================] - 36s 58ms/step - loss: 0.0659 - accuracy: 0.9728 - val_loss: 1.3948 - val_accuracy: 0.8047\n",
            "Epoch 46/50\n",
            "625/625 [==============================] - 36s 57ms/step - loss: 0.0692 - accuracy: 0.9718 - val_loss: 1.3145 - val_accuracy: 0.7970\n",
            "Epoch 47/50\n",
            "625/625 [==============================] - 37s 59ms/step - loss: 0.0621 - accuracy: 0.9750 - val_loss: 1.5461 - val_accuracy: 0.8027\n",
            "Epoch 48/50\n",
            "625/625 [==============================] - 37s 59ms/step - loss: 0.0599 - accuracy: 0.9760 - val_loss: 1.5064 - val_accuracy: 0.8024\n",
            "Epoch 49/50\n",
            "625/625 [==============================] - 37s 59ms/step - loss: 0.0566 - accuracy: 0.9758 - val_loss: 1.4606 - val_accuracy: 0.7973\n",
            "Epoch 50/50\n",
            "625/625 [==============================] - 37s 59ms/step - loss: 0.0561 - accuracy: 0.9772 - val_loss: 1.5266 - val_accuracy: 0.8080\n"
          ],
          "name": "stdout"
        }
      ]
    },
    {
      "cell_type": "code",
      "metadata": {
        "colab_type": "code",
        "id": "g9DC6dmLF8DC",
        "colab": {
          "base_uri": "https://localhost:8080/",
          "height": 542
        },
        "outputId": "58d4d466-8a1b-4797-bfa8-582d2407227f"
      },
      "source": [
        "import matplotlib.pyplot as plt\n",
        "\n",
        "\n",
        "def plot_graphs(history, string):\n",
        "  plt.plot(history.history[string])\n",
        "  plt.plot(history.history['val_'+string])\n",
        "  plt.xlabel(\"Epochs\")\n",
        "  plt.ylabel(string)\n",
        "  plt.legend([string, 'val_'+string])\n",
        "  plt.show()\n",
        "\n",
        "plot_graphs(history, 'accuracy')\n",
        "plot_graphs(history, 'loss')"
      ],
      "execution_count": 3,
      "outputs": [
        {
          "output_type": "display_data",
          "data": {
            "image/png": "[encoded data removed]",
            "text/plain": [
              "<Figure size 432x288 with 1 Axes>"
            ]
          },
          "metadata": {
            "tags": [],
            "needs_background": "light"
          }
        },
        {
          "output_type": "display_data",
          "data": {
            "image/png": "[encoded data removed]",
            "text/plain": [
              "<Figure size 432x288 with 1 Axes>"
            ]
          },
          "metadata": {
            "tags": [],
            "needs_background": "light"
          }
        }
      ]
    },
    {
      "cell_type": "code",
      "metadata": {
        "colab_type": "code",
        "id": "7ZEZIUppGhdi",
        "colab": {}
      },
      "source": [
        "model.save(\"test.h5\")"
      ],
      "execution_count": 4,
      "outputs": []
    }
  ]
}