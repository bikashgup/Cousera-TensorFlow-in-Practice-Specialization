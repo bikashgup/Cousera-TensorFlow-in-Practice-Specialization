{
  "nbformat": 4,
  "nbformat_minor": 0,
  "metadata": {
    "accelerator": "GPU",
    "colab": {
      "name": "NLP Course - Week 3 Exercise Answer.ipynb",
      "provenance": [],
      "toc_visible": true
    },
    "kernelspec": {
      "display_name": "Python 3",
      "language": "python",
      "name": "python3"
    },
    "language_info": {
      "codemirror_mode": {
        "name": "ipython",
        "version": 3
      },
      "file_extension": ".py",
      "mimetype": "text/x-python",
      "name": "python",
      "nbconvert_exporter": "python",
      "pygments_lexer": "ipython3",
      "version": "3.7.6"
    }
  },
  "cells": [
    {
      "cell_type": "code",
      "metadata": {
        "colab_type": "code",
        "id": "zX4Kg8DUTKWO",
        "colab": {}
      },
      "source": [
        "#@title Licensed under the Apache License, Version 2.0 (the \"License\");\n",
        "# you may not use this file except in compliance with the License.\n",
        "# You may obtain a copy of the License at\n",
        "#\n",
        "# https://www.apache.org/licenses/LICENSE-2.0\n",
        "#\n",
        "# Unless required by applicable law or agreed to in writing, software\n",
        "# distributed under the License is distributed on an \"AS IS\" BASIS,\n",
        "# WITHOUT WARRANTIES OR CONDITIONS OF ANY KIND, either express or implied.\n",
        "# See the License for the specific language governing permissions and\n",
        "# limitations under the License."
      ],
      "execution_count": 1,
      "outputs": []
    },
    {
      "cell_type": "markdown",
      "metadata": {
        "id": "PG8mQNamUGBY",
        "colab_type": "text"
      },
      "source": [
        "<a href=\"https://colab.research.google.com/github/lmoroney/dlaicourse/blob/master/TensorFlow%20In%20Practice/Course%203%20-%20NLP/NLP%20Course%20-%20Week%203%20Exercise%20Answer.ipynb\" target=\"_parent\"><img src=\"https://colab.research.google.com/assets/colab-badge.svg\" alt=\"Open In Colab\"/></a>"
      ]
    },
    {
      "cell_type": "code",
      "metadata": {
        "colab_type": "code",
        "id": "hmA6EzkQJ5jt",
        "colab": {}
      },
      "source": [
        "import json\n",
        "import tensorflow as tf\n",
        "import csv\n",
        "import random\n",
        "import numpy as np\n",
        "\n",
        "from tensorflow.keras.preprocessing.text import Tokenizer\n",
        "from tensorflow.keras.preprocessing.sequence import pad_sequences\n",
        "from tensorflow.keras.utils import to_categorical\n",
        "from tensorflow.keras import regularizers\n",
        "\n",
        "\n",
        "embedding_dim = 100\n",
        "max_length = 16\n",
        "trunc_type='post'\n",
        "padding_type='post'\n",
        "oov_tok = \"<OOV>\"\n",
        "training_size=160000\n",
        "test_portion=.1\n",
        "\n",
        "corpus = []\n"
      ],
      "execution_count": 2,
      "outputs": []
    },
    {
      "cell_type": "code",
      "metadata": {
        "colab_type": "code",
        "id": "bM0l_dORKqE0",
        "colab": {
          "base_uri": "https://localhost:8080/",
          "height": 196
        },
        "outputId": "7e41561e-7d1d-4128-c153-2c297d517fb5"
      },
      "source": [
        "# Note that I cleaned the Stanford dataset to remove LATIN1 encoding to make it easier for Python CSV reader\n",
        "# You can do that yourself with:\n",
        "# iconv -f LATIN1 -t UTF8 training.1600000.processed.noemoticon.csv -o training_cleaned.csv\n",
        "# I then hosted it on my site to make it easier to use in this notebook\n",
        "\n",
        "!wget --no-check-certificate \\\n",
        "    https://storage.googleapis.com/laurencemoroney-blog.appspot.com/training_cleaned.csv \\\n",
        "    -O /tmp/training_cleaned.csv\n",
        "\n",
        "num_sentences = 0\n",
        "\n",
        "with open(\"/tmp/training_cleaned.csv\") as csvfile:\n",
        "    reader = csv.reader(csvfile, delimiter=',')\n",
        "    for row in reader:\n",
        "        list_item=[]\n",
        "        list_item.append(row[5])\n",
        "        this_label=row[0]\n",
        "        if this_label=='0':\n",
        "            list_item.append(0)\n",
        "        else:\n",
        "            list_item.append(1)\n",
        "          \n",
        "        num_sentences = num_sentences + 1\n",
        "        corpus.append(list_item)\n"
      ],
      "execution_count": 3,
      "outputs": [
        {
          "output_type": "stream",
          "text": [
            "--2020-08-20 06:17:42--  https://storage.googleapis.com/laurencemoroney-blog.appspot.com/training_cleaned.csv\n",
            "Resolving storage.googleapis.com (storage.googleapis.com)... 74.125.20.128, 74.125.135.128, 74.125.142.128, ...\n",
            "Connecting to storage.googleapis.com (storage.googleapis.com)|74.125.20.128|:443... connected.\n",
            "HTTP request sent, awaiting response... 200 OK\n",
            "Length: 238942690 (228M) [application/octet-stream]\n",
            "Saving to: ‘/tmp/training_cleaned.csv’\n",
            "\n",
            "/tmp/training_clean 100%[===================>] 227.87M  84.1MB/s    in 2.7s    \n",
            "\n",
            "2020-08-20 06:17:45 (84.1 MB/s) - ‘/tmp/training_cleaned.csv’ saved [238942690/238942690]\n",
            "\n"
          ],
          "name": "stdout"
        }
      ]
    },
    {
      "cell_type": "code",
      "metadata": {
        "colab_type": "code",
        "id": "3kxblBUjEUX-",
        "colab": {
          "base_uri": "https://localhost:8080/",
          "height": 66
        },
        "outputId": "8f2f111d-5500-4788-b054-28079b367c28"
      },
      "source": [
        "print(num_sentences)\n",
        "print(len(corpus))\n",
        "print(corpus[1])\n",
        "\n",
        "# Expected Output:\n",
        "# 1600000\n",
        "# 1600000\n",
        "# [\"is upset that he can't update his Facebook by texting it... and might cry as a result  School today also. Blah!\", 0]"
      ],
      "execution_count": 4,
      "outputs": [
        {
          "output_type": "stream",
          "text": [
            "1600000\n",
            "1600000\n",
            "[\"is upset that he can't update his Facebook by texting it... and might cry as a result  School today also. Blah!\", 0]\n"
          ],
          "name": "stdout"
        }
      ]
    },
    {
      "cell_type": "code",
      "metadata": {
        "colab_type": "code",
        "id": "ohOGz24lsNAD",
        "colab": {}
      },
      "source": [
        "sentences=[]\n",
        "labels=[]\n",
        "random.shuffle(corpus)\n",
        "for x in range(training_size):\n",
        "    sentences.append(corpus[x][0])\n",
        "    labels.append(corpus[x][1])\n",
        "\n",
        "\n",
        "tokenizer = Tokenizer()\n",
        "tokenizer.fit_on_texts(sentences)\n",
        "\n",
        "word_index = tokenizer.word_index\n",
        "vocab_size=len(word_index)\n",
        "\n",
        "sequences = tokenizer.texts_to_sequences(sentences)\n",
        "padded = pad_sequences(sequences, maxlen=max_length, padding=padding_type, truncating=trunc_type)\n",
        "\n",
        "split = int(test_portion * training_size)\n",
        "\n",
        "test_sequences = padded[0:split]\n",
        "training_sequences = padded[split:training_size]\n",
        "test_labels = labels[0:split]\n",
        "training_labels = labels[split:training_size]"
      ],
      "execution_count": 5,
      "outputs": []
    },
    {
      "cell_type": "code",
      "metadata": {
        "colab_type": "code",
        "id": "gIrtRem1En3N",
        "colab": {
          "base_uri": "https://localhost:8080/",
          "height": 50
        },
        "outputId": "436c0cc0-7213-4ac8-acec-08035daa5654"
      },
      "source": [
        "print(vocab_size)\n",
        "print(word_index['i'])\n",
        "# Expected Output\n",
        "# 138858\n",
        "# 1"
      ],
      "execution_count": 6,
      "outputs": [
        {
          "output_type": "stream",
          "text": [
            "138847\n",
            "1\n"
          ],
          "name": "stdout"
        }
      ]
    },
    {
      "cell_type": "code",
      "metadata": {
        "colab_type": "code",
        "id": "C1zdgJkusRh0",
        "colab": {
          "base_uri": "https://localhost:8080/",
          "height": 196
        },
        "outputId": "aa8c2908-7c86-4f59-9ced-953eeb8405d3"
      },
      "source": [
        "# Note this is the 100 dimension version of GloVe from Stanford\n",
        "# I unzipped and hosted it on my site to make this notebook easier\n",
        "!wget --no-check-certificate \\\n",
        "    https://storage.googleapis.com/laurencemoroney-blog.appspot.com/glove.6B.100d.txt \\\n",
        "    -O /tmp/glove.6B.100d.txt\n",
        "embeddings_index = {};\n",
        "with open('/tmp/glove.6B.100d.txt') as f:\n",
        "    for line in f:\n",
        "        values = line.split();\n",
        "        word = values[0];\n",
        "        coefs = np.asarray(values[1:], dtype='float32');\n",
        "        embeddings_index[word] = coefs;\n",
        "\n",
        "embeddings_matrix = np.zeros((vocab_size+1, embedding_dim));\n",
        "for word, i in word_index.items():\n",
        "    embedding_vector = embeddings_index.get(word);\n",
        "    if embedding_vector is not None:\n",
        "        embeddings_matrix[i] = embedding_vector;"
      ],
      "execution_count": 7,
      "outputs": [
        {
          "output_type": "stream",
          "text": [
            "--2020-08-20 06:17:59--  https://storage.googleapis.com/laurencemoroney-blog.appspot.com/glove.6B.100d.txt\n",
            "Resolving storage.googleapis.com (storage.googleapis.com)... 74.125.28.128, 74.125.142.128, 74.125.195.128, ...\n",
            "Connecting to storage.googleapis.com (storage.googleapis.com)|74.125.28.128|:443... connected.\n",
            "HTTP request sent, awaiting response... 200 OK\n",
            "Length: 347116733 (331M) [text/plain]\n",
            "Saving to: ‘/tmp/glove.6B.100d.txt’\n",
            "\n",
            "/tmp/glove.6B.100d. 100%[===================>] 331.04M   241MB/s    in 1.4s    \n",
            "\n",
            "2020-08-20 06:18:00 (241 MB/s) - ‘/tmp/glove.6B.100d.txt’ saved [347116733/347116733]\n",
            "\n"
          ],
          "name": "stdout"
        }
      ]
    },
    {
      "cell_type": "code",
      "metadata": {
        "colab_type": "code",
        "id": "71NLk_lpFLNt",
        "colab": {
          "base_uri": "https://localhost:8080/",
          "height": 33
        },
        "outputId": "980b7253-ebb6-47e2-bf58-2f2a49585735"
      },
      "source": [
        "print(len(embeddings_matrix))\n",
        "# Expected Output\n",
        "# 138859"
      ],
      "execution_count": 8,
      "outputs": [
        {
          "output_type": "stream",
          "text": [
            "138848\n"
          ],
          "name": "stdout"
        }
      ]
    },
    {
      "cell_type": "code",
      "metadata": {
        "colab_type": "code",
        "id": "iKKvbuEBOGFz",
        "colab": {
          "base_uri": "https://localhost:8080/",
          "height": 1000
        },
        "outputId": "6783657a-9677-4d10-ff49-eda8e4b0aa28"
      },
      "source": [
        "model = tf.keras.Sequential([\n",
        "    tf.keras.layers.Embedding(vocab_size+1, embedding_dim, input_length=max_length, weights=[embeddings_matrix], trainable=False),\n",
        "    tf.keras.layers.Dropout(0.2),\n",
        "    tf.keras.layers.Conv1D(64, 5, activation='relu'),\n",
        "    tf.keras.layers.MaxPooling1D(pool_size=4),\n",
        "    tf.keras.layers.LSTM(64),\n",
        "    tf.keras.layers.Dense(1, activation='sigmoid')\n",
        "])\n",
        "model.compile(loss='binary_crossentropy',optimizer='adam',metrics=['accuracy'])\n",
        "model.summary()\n",
        "\n",
        "num_epochs = 50\n",
        "\n",
        "training_padded = np.array(training_sequences)\n",
        "training_labels = np.array(training_labels)\n",
        "testing_padded = np.array(test_sequences)\n",
        "testing_labels = np.array(test_labels)\n",
        "\n",
        "history = model.fit(training_padded, training_labels, epochs=num_epochs, validation_data=(testing_padded, testing_labels), verbose=2)\n",
        "\n",
        "print(\"Training Complete\")"
      ],
      "execution_count": 9,
      "outputs": [
        {
          "output_type": "stream",
          "text": [
            "Model: \"sequential\"\n",
            "_________________________________________________________________\n",
            "Layer (type)                 Output Shape              Param #   \n",
            "=================================================================\n",
            "embedding (Embedding)        (None, 16, 100)           13884800  \n",
            "_________________________________________________________________\n",
            "dropout (Dropout)            (None, 16, 100)           0         \n",
            "_________________________________________________________________\n",
            "conv1d (Conv1D)              (None, 12, 64)            32064     \n",
            "_________________________________________________________________\n",
            "max_pooling1d (MaxPooling1D) (None, 3, 64)             0         \n",
            "_________________________________________________________________\n",
            "lstm (LSTM)                  (None, 64)                33024     \n",
            "_________________________________________________________________\n",
            "dense (Dense)                (None, 1)                 65        \n",
            "=================================================================\n",
            "Total params: 13,949,953\n",
            "Trainable params: 65,153\n",
            "Non-trainable params: 13,884,800\n",
            "_________________________________________________________________\n",
            "Epoch 1/50\n",
            "4500/4500 - 15s - loss: 0.5668 - accuracy: 0.6977 - val_loss: 0.5309 - val_accuracy: 0.7256\n",
            "Epoch 2/50\n",
            "4500/4500 - 15s - loss: 0.5269 - accuracy: 0.7317 - val_loss: 0.5155 - val_accuracy: 0.7384\n",
            "Epoch 3/50\n",
            "4500/4500 - 15s - loss: 0.5094 - accuracy: 0.7437 - val_loss: 0.5079 - val_accuracy: 0.7419\n",
            "Epoch 4/50\n",
            "4500/4500 - 15s - loss: 0.4988 - accuracy: 0.7513 - val_loss: 0.5039 - val_accuracy: 0.7440\n",
            "Epoch 5/50\n",
            "4500/4500 - 15s - loss: 0.4905 - accuracy: 0.7565 - val_loss: 0.5026 - val_accuracy: 0.7464\n",
            "Epoch 6/50\n",
            "4500/4500 - 14s - loss: 0.4840 - accuracy: 0.7612 - val_loss: 0.5021 - val_accuracy: 0.7501\n",
            "Epoch 7/50\n",
            "4500/4500 - 14s - loss: 0.4784 - accuracy: 0.7647 - val_loss: 0.4999 - val_accuracy: 0.7486\n",
            "Epoch 8/50\n",
            "4500/4500 - 15s - loss: 0.4725 - accuracy: 0.7689 - val_loss: 0.5100 - val_accuracy: 0.7458\n",
            "Epoch 9/50\n",
            "4500/4500 - 15s - loss: 0.4694 - accuracy: 0.7715 - val_loss: 0.5052 - val_accuracy: 0.7492\n",
            "Epoch 10/50\n",
            "4500/4500 - 15s - loss: 0.4648 - accuracy: 0.7716 - val_loss: 0.5004 - val_accuracy: 0.7526\n",
            "Epoch 11/50\n",
            "4500/4500 - 15s - loss: 0.4598 - accuracy: 0.7761 - val_loss: 0.5055 - val_accuracy: 0.7492\n",
            "Epoch 12/50\n",
            "4500/4500 - 15s - loss: 0.4571 - accuracy: 0.7787 - val_loss: 0.5145 - val_accuracy: 0.7443\n",
            "Epoch 13/50\n",
            "4500/4500 - 15s - loss: 0.4554 - accuracy: 0.7787 - val_loss: 0.5063 - val_accuracy: 0.7484\n",
            "Epoch 14/50\n",
            "4500/4500 - 16s - loss: 0.4531 - accuracy: 0.7803 - val_loss: 0.5079 - val_accuracy: 0.7486\n",
            "Epoch 15/50\n",
            "4500/4500 - 15s - loss: 0.4505 - accuracy: 0.7824 - val_loss: 0.5138 - val_accuracy: 0.7474\n",
            "Epoch 16/50\n",
            "4500/4500 - 15s - loss: 0.4495 - accuracy: 0.7834 - val_loss: 0.5101 - val_accuracy: 0.7464\n",
            "Epoch 17/50\n",
            "4500/4500 - 15s - loss: 0.4471 - accuracy: 0.7833 - val_loss: 0.5093 - val_accuracy: 0.7467\n",
            "Epoch 18/50\n",
            "4500/4500 - 15s - loss: 0.4462 - accuracy: 0.7850 - val_loss: 0.5152 - val_accuracy: 0.7451\n",
            "Epoch 19/50\n",
            "4500/4500 - 15s - loss: 0.4425 - accuracy: 0.7870 - val_loss: 0.5126 - val_accuracy: 0.7463\n",
            "Epoch 20/50\n",
            "4500/4500 - 15s - loss: 0.4425 - accuracy: 0.7876 - val_loss: 0.5109 - val_accuracy: 0.7446\n",
            "Epoch 21/50\n",
            "4500/4500 - 14s - loss: 0.4420 - accuracy: 0.7879 - val_loss: 0.5141 - val_accuracy: 0.7450\n",
            "Epoch 22/50\n",
            "4500/4500 - 15s - loss: 0.4398 - accuracy: 0.7899 - val_loss: 0.5160 - val_accuracy: 0.7463\n",
            "Epoch 23/50\n",
            "4500/4500 - 15s - loss: 0.4396 - accuracy: 0.7896 - val_loss: 0.5136 - val_accuracy: 0.7459\n",
            "Epoch 24/50\n",
            "4500/4500 - 15s - loss: 0.4382 - accuracy: 0.7901 - val_loss: 0.5133 - val_accuracy: 0.7473\n",
            "Epoch 25/50\n",
            "4500/4500 - 14s - loss: 0.4363 - accuracy: 0.7902 - val_loss: 0.5143 - val_accuracy: 0.7473\n",
            "Epoch 26/50\n",
            "4500/4500 - 14s - loss: 0.4352 - accuracy: 0.7914 - val_loss: 0.5242 - val_accuracy: 0.7444\n",
            "Epoch 27/50\n",
            "4500/4500 - 15s - loss: 0.4359 - accuracy: 0.7914 - val_loss: 0.5143 - val_accuracy: 0.7457\n",
            "Epoch 28/50\n",
            "4500/4500 - 15s - loss: 0.4341 - accuracy: 0.7916 - val_loss: 0.5165 - val_accuracy: 0.7451\n",
            "Epoch 29/50\n",
            "4500/4500 - 15s - loss: 0.4335 - accuracy: 0.7918 - val_loss: 0.5193 - val_accuracy: 0.7422\n",
            "Epoch 30/50\n",
            "4500/4500 - 15s - loss: 0.4320 - accuracy: 0.7946 - val_loss: 0.5214 - val_accuracy: 0.7431\n",
            "Epoch 31/50\n",
            "4500/4500 - 15s - loss: 0.4307 - accuracy: 0.7937 - val_loss: 0.5210 - val_accuracy: 0.7439\n",
            "Epoch 32/50\n",
            "4500/4500 - 14s - loss: 0.4319 - accuracy: 0.7934 - val_loss: 0.5211 - val_accuracy: 0.7445\n",
            "Epoch 33/50\n",
            "4500/4500 - 14s - loss: 0.4314 - accuracy: 0.7942 - val_loss: 0.5233 - val_accuracy: 0.7445\n",
            "Epoch 34/50\n",
            "4500/4500 - 14s - loss: 0.4298 - accuracy: 0.7946 - val_loss: 0.5261 - val_accuracy: 0.7431\n",
            "Epoch 35/50\n",
            "4500/4500 - 15s - loss: 0.4313 - accuracy: 0.7937 - val_loss: 0.5251 - val_accuracy: 0.7444\n",
            "Epoch 36/50\n",
            "4500/4500 - 16s - loss: 0.4301 - accuracy: 0.7952 - val_loss: 0.5242 - val_accuracy: 0.7458\n",
            "Epoch 37/50\n",
            "4500/4500 - 15s - loss: 0.4288 - accuracy: 0.7952 - val_loss: 0.5233 - val_accuracy: 0.7464\n",
            "Epoch 38/50\n",
            "4500/4500 - 14s - loss: 0.4269 - accuracy: 0.7962 - val_loss: 0.5331 - val_accuracy: 0.7476\n",
            "Epoch 39/50\n",
            "4500/4500 - 14s - loss: 0.4287 - accuracy: 0.7957 - val_loss: 0.5237 - val_accuracy: 0.7433\n",
            "Epoch 40/50\n",
            "4500/4500 - 15s - loss: 0.4281 - accuracy: 0.7958 - val_loss: 0.5293 - val_accuracy: 0.7456\n",
            "Epoch 41/50\n",
            "4500/4500 - 15s - loss: 0.4270 - accuracy: 0.7961 - val_loss: 0.5232 - val_accuracy: 0.7471\n",
            "Epoch 42/50\n",
            "4500/4500 - 15s - loss: 0.4272 - accuracy: 0.7966 - val_loss: 0.5217 - val_accuracy: 0.7463\n",
            "Epoch 43/50\n",
            "4500/4500 - 15s - loss: 0.4268 - accuracy: 0.7966 - val_loss: 0.5218 - val_accuracy: 0.7494\n",
            "Epoch 44/50\n",
            "4500/4500 - 14s - loss: 0.4256 - accuracy: 0.7971 - val_loss: 0.5234 - val_accuracy: 0.7461\n",
            "Epoch 45/50\n",
            "4500/4500 - 14s - loss: 0.4264 - accuracy: 0.7960 - val_loss: 0.5268 - val_accuracy: 0.7444\n",
            "Epoch 46/50\n",
            "4500/4500 - 14s - loss: 0.4273 - accuracy: 0.7960 - val_loss: 0.5271 - val_accuracy: 0.7434\n",
            "Epoch 47/50\n",
            "4500/4500 - 15s - loss: 0.4270 - accuracy: 0.7953 - val_loss: 0.5310 - val_accuracy: 0.7448\n",
            "Epoch 48/50\n",
            "4500/4500 - 15s - loss: 0.4255 - accuracy: 0.7975 - val_loss: 0.5237 - val_accuracy: 0.7441\n",
            "Epoch 49/50\n",
            "4500/4500 - 14s - loss: 0.4239 - accuracy: 0.7982 - val_loss: 0.5356 - val_accuracy: 0.7431\n",
            "Epoch 50/50\n",
            "4500/4500 - 15s - loss: 0.4248 - accuracy: 0.7981 - val_loss: 0.5317 - val_accuracy: 0.7472\n",
            "Training Complete\n"
          ],
          "name": "stdout"
        }
      ]
    },
    {
      "cell_type": "code",
      "metadata": {
        "colab_type": "code",
        "id": "qxju4ItJKO8F",
        "colab": {
          "base_uri": "https://localhost:8080/",
          "height": 605
        },
        "outputId": "9a6f5f58-2b6b-43be-8135-98e94424aaaf"
      },
      "source": [
        "import matplotlib.image  as mpimg\n",
        "import matplotlib.pyplot as plt\n",
        "\n",
        "#-----------------------------------------------------------\n",
        "# Retrieve a list of list results on training and test data\n",
        "# sets for each training epoch\n",
        "#-----------------------------------------------------------\n",
        "acc=history.history['accuracy']\n",
        "val_acc=history.history['val_accuracy']\n",
        "loss=history.history['loss']\n",
        "val_loss=history.history['val_loss']\n",
        "\n",
        "epochs=range(len(acc)) # Get number of epochs\n",
        "\n",
        "#------------------------------------------------\n",
        "# Plot training and validation accuracy per epoch\n",
        "#------------------------------------------------\n",
        "plt.plot(epochs, acc, 'r')\n",
        "plt.plot(epochs, val_acc, 'b')\n",
        "plt.title('Training and validation accuracy')\n",
        "plt.xlabel(\"Epochs\")\n",
        "plt.ylabel(\"Accuracy\")\n",
        "plt.legend([\"Accuracy\", \"Validation Accuracy\"])\n",
        "\n",
        "plt.figure()\n",
        "\n",
        "#------------------------------------------------\n",
        "# Plot training and validation loss per epoch\n",
        "#------------------------------------------------\n",
        "plt.plot(epochs, loss, 'r')\n",
        "plt.plot(epochs, val_loss, 'b')\n",
        "plt.title('Training and validation loss')\n",
        "plt.xlabel(\"Epochs\")\n",
        "plt.ylabel(\"Loss\")\n",
        "plt.legend([\"Loss\", \"Validation Loss\"])\n",
        "\n",
        "plt.figure()\n",
        "\n",
        "\n",
        "# Expected Output\n",
        "# A chart where the validation loss does not increase sharply!"
      ],
      "execution_count": 10,
      "outputs": [
        {
          "output_type": "execute_result",
          "data": {
            "text/plain": [
              "<Figure size 432x288 with 0 Axes>"
            ]
          },
          "metadata": {
            "tags": []
          },
          "execution_count": 10
        },
        {
          "output_type": "display_data",
          "data": {
            "image/png": "[encoded data removed]",
            "text/plain": [
              "<Figure size 432x288 with 1 Axes>"
            ]
          },
          "metadata": {
            "tags": [],
            "needs_background": "light"
          }
        },
        {
          "output_type": "display_data",
          "data": {
            "image/png": "[encoded data removed]",
            "text/plain": [
              "<Figure size 432x288 with 1 Axes>"
            ]
          },
          "metadata": {
            "tags": [],
            "needs_background": "light"
          }
        },
        {
          "output_type": "display_data",
          "data": {
            "text/plain": [
              "<Figure size 432x288 with 0 Axes>"
            ]
          },
          "metadata": {
            "tags": []
          }
        }
      ]
    }
  ]
}