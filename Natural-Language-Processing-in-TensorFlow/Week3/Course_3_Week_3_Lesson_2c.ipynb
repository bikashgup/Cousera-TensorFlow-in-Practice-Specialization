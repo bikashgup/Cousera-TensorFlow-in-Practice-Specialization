{
  "nbformat": 4,
  "nbformat_minor": 0,
  "metadata": {
    "accelerator": "GPU",
    "colab": {
      "name": "Course 3 - Week 3 - Lesson 2c.ipynb",
      "provenance": [],
      "collapsed_sections": [],
      "toc_visible": true
    },
    "kernelspec": {
      "display_name": "Python 3",
      "language": "python",
      "name": "python3"
    },
    "language_info": {
      "codemirror_mode": {
        "name": "ipython",
        "version": 3
      },
      "file_extension": ".py",
      "mimetype": "text/x-python",
      "name": "python",
      "nbconvert_exporter": "python",
      "pygments_lexer": "ipython3",
      "version": "3.7.6"
    }
  },
  "cells": [
    {
      "cell_type": "code",
      "metadata": {
        "colab_type": "code",
        "id": "zX4Kg8DUTKWO",
        "colab": {}
      },
      "source": [
        "#@title Licensed under the Apache License, Version 2.0 (the \"License\");\n",
        "# you may not use this file except in compliance with the License.\n",
        "# You may obtain a copy of the License at\n",
        "#\n",
        "# https://www.apache.org/licenses/LICENSE-2.0\n",
        "#\n",
        "# Unless required by applicable law or agreed to in writing, software\n",
        "# distributed under the License is distributed on an \"AS IS\" BASIS,\n",
        "# WITHOUT WARRANTIES OR CONDITIONS OF ANY KIND, either express or implied.\n",
        "# See the License for the specific language governing permissions and\n",
        "# limitations under the License."
      ],
      "execution_count": 1,
      "outputs": []
    },
    {
      "cell_type": "markdown",
      "metadata": {
        "id": "TSdmL-IXTzsE",
        "colab_type": "text"
      },
      "source": [
        "<a href=\"https://colab.research.google.com/github/lmoroney/dlaicourse/blob/master/TensorFlow%20In%20Practice/Course%203%20-%20NLP/Course%203%20-%20Week%203%20-%20Lesson%202c.ipynb\" target=\"_parent\"><img src=\"https://colab.research.google.com/assets/colab-badge.svg\" alt=\"Open In Colab\"/></a>"
      ]
    },
    {
      "cell_type": "code",
      "metadata": {
        "colab_type": "code",
        "id": "jGwXGIXvFhXW",
        "colab": {
          "base_uri": "https://localhost:8080/",
          "height": 1000
        },
        "outputId": "0f379da8-90e4-4614-eb6f-f06b6fcf4da6"
      },
      "source": [
        "import numpy as np\n",
        "\n",
        "import json\n",
        "import tensorflow as tf\n",
        "\n",
        "from tensorflow.keras.preprocessing.text import Tokenizer\n",
        "from tensorflow.keras.preprocessing.sequence import pad_sequences\n",
        "\n",
        "!wget --no-check-certificate \\\n",
        "    https://storage.googleapis.com/laurencemoroney-blog.appspot.com/sarcasm.json \\\n",
        "    -O /tmp/sarcasm.json\n",
        "\n",
        "vocab_size = 1000\n",
        "embedding_dim = 16\n",
        "max_length = 120\n",
        "trunc_type='post'\n",
        "padding_type='post'\n",
        "oov_tok = \"<OOV>\"\n",
        "training_size = 20000\n",
        "\n",
        "\n",
        "with open(\"/tmp/sarcasm.json\", 'r') as f:\n",
        "    datastore = json.load(f)\n",
        "\n",
        "\n",
        "sentences = []\n",
        "labels = []\n",
        "urls = []\n",
        "for item in datastore:\n",
        "    sentences.append(item['headline'])\n",
        "    labels.append(item['is_sarcastic'])\n",
        "\n",
        "training_sentences = sentences[0:training_size]\n",
        "testing_sentences = sentences[training_size:]\n",
        "training_labels = labels[0:training_size]\n",
        "testing_labels = labels[training_size:]\n",
        "\n",
        "tokenizer = Tokenizer(num_words=vocab_size, oov_token=oov_tok)\n",
        "tokenizer.fit_on_texts(training_sentences)\n",
        "\n",
        "word_index = tokenizer.word_index\n",
        "\n",
        "training_sequences = tokenizer.texts_to_sequences(training_sentences)\n",
        "training_padded = pad_sequences(training_sequences, maxlen=max_length, padding=padding_type, truncating=trunc_type)\n",
        "\n",
        "testing_sequences = tokenizer.texts_to_sequences(testing_sentences)\n",
        "testing_padded = pad_sequences(testing_sequences, maxlen=max_length, padding=padding_type, truncating=trunc_type)\n",
        "\n",
        "model = tf.keras.Sequential([\n",
        "    tf.keras.layers.Embedding(vocab_size, embedding_dim, input_length=max_length),\n",
        "    tf.keras.layers.Conv1D(128, 5, activation='relu'),\n",
        "    tf.keras.layers.GlobalMaxPooling1D(),\n",
        "    tf.keras.layers.Dense(24, activation='relu'),\n",
        "    tf.keras.layers.Dense(1, activation='sigmoid')\n",
        "])\n",
        "model.compile(loss='binary_crossentropy',optimizer='adam',metrics=['accuracy'])\n",
        "model.summary()\n",
        "\n",
        "num_epochs = 50\n",
        "\n",
        "training_padded = np.array(training_padded)\n",
        "training_labels = np.array(training_labels)\n",
        "testing_padded = np.array(testing_padded)\n",
        "testing_labels = np.array(testing_labels)\n",
        "\n",
        "history = model.fit(training_padded, training_labels, epochs=num_epochs, validation_data=(testing_padded, testing_labels), verbose=1)\n"
      ],
      "execution_count": 2,
      "outputs": [
        {
          "output_type": "stream",
          "text": [
            "--2020-08-20 05:20:47--  https://storage.googleapis.com/laurencemoroney-blog.appspot.com/sarcasm.json\n",
            "Resolving storage.googleapis.com (storage.googleapis.com)... 64.233.167.128, 74.125.133.128, 74.125.140.128, ...\n",
            "Connecting to storage.googleapis.com (storage.googleapis.com)|64.233.167.128|:443... connected.\n",
            "HTTP request sent, awaiting response... 200 OK\n",
            "Length: 5643545 (5.4M) [application/json]\n",
            "Saving to: ‘/tmp/sarcasm.json’\n",
            "\n",
            "/tmp/sarcasm.json   100%[===================>]   5.38M  27.7MB/s    in 0.2s    \n",
            "\n",
            "2020-08-20 05:20:50 (27.7 MB/s) - ‘/tmp/sarcasm.json’ saved [5643545/5643545]\n",
            "\n",
            "Model: \"sequential\"\n",
            "_________________________________________________________________\n",
            "Layer (type)                 Output Shape              Param #   \n",
            "=================================================================\n",
            "embedding (Embedding)        (None, 120, 16)           16000     \n",
            "_________________________________________________________________\n",
            "conv1d (Conv1D)              (None, 116, 128)          10368     \n",
            "_________________________________________________________________\n",
            "global_max_pooling1d (Global (None, 128)               0         \n",
            "_________________________________________________________________\n",
            "dense (Dense)                (None, 24)                3096      \n",
            "_________________________________________________________________\n",
            "dense_1 (Dense)              (None, 1)                 25        \n",
            "=================================================================\n",
            "Total params: 29,489\n",
            "Trainable params: 29,489\n",
            "Non-trainable params: 0\n",
            "_________________________________________________________________\n",
            "Epoch 1/50\n",
            "625/625 [==============================] - 4s 6ms/step - loss: 0.4728 - accuracy: 0.7617 - val_loss: 0.4085 - val_accuracy: 0.8141\n",
            "Epoch 2/50\n",
            "625/625 [==============================] - 4s 6ms/step - loss: 0.3615 - accuracy: 0.8364 - val_loss: 0.3956 - val_accuracy: 0.8202\n",
            "Epoch 3/50\n",
            "625/625 [==============================] - 4s 6ms/step - loss: 0.3223 - accuracy: 0.8592 - val_loss: 0.3908 - val_accuracy: 0.8244\n",
            "Epoch 4/50\n",
            "625/625 [==============================] - 4s 6ms/step - loss: 0.2911 - accuracy: 0.8731 - val_loss: 0.4031 - val_accuracy: 0.8196\n",
            "Epoch 5/50\n",
            "625/625 [==============================] - 4s 6ms/step - loss: 0.2545 - accuracy: 0.8923 - val_loss: 0.4291 - val_accuracy: 0.8189\n",
            "Epoch 6/50\n",
            "625/625 [==============================] - 4s 6ms/step - loss: 0.2227 - accuracy: 0.9077 - val_loss: 0.4805 - val_accuracy: 0.8055\n",
            "Epoch 7/50\n",
            "625/625 [==============================] - 4s 6ms/step - loss: 0.1892 - accuracy: 0.9244 - val_loss: 0.4932 - val_accuracy: 0.8083\n",
            "Epoch 8/50\n",
            "625/625 [==============================] - 4s 6ms/step - loss: 0.1583 - accuracy: 0.9390 - val_loss: 0.5603 - val_accuracy: 0.8080\n",
            "Epoch 9/50\n",
            "625/625 [==============================] - 4s 6ms/step - loss: 0.1326 - accuracy: 0.9488 - val_loss: 0.6089 - val_accuracy: 0.8006\n",
            "Epoch 10/50\n",
            "625/625 [==============================] - 4s 6ms/step - loss: 0.1082 - accuracy: 0.9606 - val_loss: 0.6934 - val_accuracy: 0.7976\n",
            "Epoch 11/50\n",
            "625/625 [==============================] - 4s 6ms/step - loss: 0.0910 - accuracy: 0.9674 - val_loss: 0.7973 - val_accuracy: 0.8006\n",
            "Epoch 12/50\n",
            "625/625 [==============================] - 4s 6ms/step - loss: 0.0762 - accuracy: 0.9728 - val_loss: 0.8456 - val_accuracy: 0.7998\n",
            "Epoch 13/50\n",
            "625/625 [==============================] - 4s 6ms/step - loss: 0.0655 - accuracy: 0.9767 - val_loss: 0.9667 - val_accuracy: 0.7968\n",
            "Epoch 14/50\n",
            "625/625 [==============================] - 4s 6ms/step - loss: 0.0558 - accuracy: 0.9804 - val_loss: 1.0680 - val_accuracy: 0.7928\n",
            "Epoch 15/50\n",
            "625/625 [==============================] - 4s 6ms/step - loss: 0.0484 - accuracy: 0.9833 - val_loss: 1.1540 - val_accuracy: 0.7922\n",
            "Epoch 16/50\n",
            "625/625 [==============================] - 4s 6ms/step - loss: 0.0440 - accuracy: 0.9844 - val_loss: 1.1573 - val_accuracy: 0.7888\n",
            "Epoch 17/50\n",
            "625/625 [==============================] - 4s 6ms/step - loss: 0.0421 - accuracy: 0.9837 - val_loss: 1.2615 - val_accuracy: 0.7854\n",
            "Epoch 18/50\n",
            "625/625 [==============================] - 4s 6ms/step - loss: 0.0400 - accuracy: 0.9851 - val_loss: 1.3504 - val_accuracy: 0.7888\n",
            "Epoch 19/50\n",
            "625/625 [==============================] - 4s 6ms/step - loss: 0.0373 - accuracy: 0.9862 - val_loss: 1.3773 - val_accuracy: 0.7880\n",
            "Epoch 20/50\n",
            "625/625 [==============================] - 4s 6ms/step - loss: 0.0383 - accuracy: 0.9862 - val_loss: 1.5832 - val_accuracy: 0.7818\n",
            "Epoch 21/50\n",
            "625/625 [==============================] - 4s 6ms/step - loss: 0.0382 - accuracy: 0.9851 - val_loss: 1.4867 - val_accuracy: 0.7898\n",
            "Epoch 22/50\n",
            "625/625 [==============================] - 4s 6ms/step - loss: 0.0341 - accuracy: 0.9869 - val_loss: 1.5682 - val_accuracy: 0.7900\n",
            "Epoch 23/50\n",
            "625/625 [==============================] - 4s 6ms/step - loss: 0.0291 - accuracy: 0.9895 - val_loss: 1.5930 - val_accuracy: 0.7860\n",
            "Epoch 24/50\n",
            "625/625 [==============================] - 4s 6ms/step - loss: 0.0307 - accuracy: 0.9883 - val_loss: 1.7210 - val_accuracy: 0.7874\n",
            "Epoch 25/50\n",
            "625/625 [==============================] - 4s 6ms/step - loss: 0.0290 - accuracy: 0.9891 - val_loss: 1.7220 - val_accuracy: 0.7866\n",
            "Epoch 26/50\n",
            "625/625 [==============================] - 4s 6ms/step - loss: 0.0298 - accuracy: 0.9883 - val_loss: 1.7612 - val_accuracy: 0.7888\n",
            "Epoch 27/50\n",
            "625/625 [==============================] - 4s 6ms/step - loss: 0.0281 - accuracy: 0.9888 - val_loss: 1.7162 - val_accuracy: 0.7934\n",
            "Epoch 28/50\n",
            "625/625 [==============================] - 4s 6ms/step - loss: 0.0233 - accuracy: 0.9906 - val_loss: 1.7972 - val_accuracy: 0.7860\n",
            "Epoch 29/50\n",
            "625/625 [==============================] - 4s 7ms/step - loss: 0.0314 - accuracy: 0.9872 - val_loss: 1.7458 - val_accuracy: 0.7831\n",
            "Epoch 30/50\n",
            "625/625 [==============================] - 4s 6ms/step - loss: 0.0294 - accuracy: 0.9889 - val_loss: 1.8564 - val_accuracy: 0.7861\n",
            "Epoch 31/50\n",
            "625/625 [==============================] - 4s 6ms/step - loss: 0.0267 - accuracy: 0.9890 - val_loss: 1.8834 - val_accuracy: 0.7897\n",
            "Epoch 32/50\n",
            "625/625 [==============================] - 4s 6ms/step - loss: 0.0249 - accuracy: 0.9893 - val_loss: 1.8881 - val_accuracy: 0.7889\n",
            "Epoch 33/50\n",
            "625/625 [==============================] - 4s 6ms/step - loss: 0.0277 - accuracy: 0.9890 - val_loss: 1.9274 - val_accuracy: 0.7891\n",
            "Epoch 34/50\n",
            "625/625 [==============================] - 4s 6ms/step - loss: 0.0242 - accuracy: 0.9896 - val_loss: 2.0125 - val_accuracy: 0.7892\n",
            "Epoch 35/50\n",
            "625/625 [==============================] - 4s 6ms/step - loss: 0.0207 - accuracy: 0.9911 - val_loss: 2.0646 - val_accuracy: 0.7858\n",
            "Epoch 36/50\n",
            "625/625 [==============================] - 4s 6ms/step - loss: 0.0213 - accuracy: 0.9912 - val_loss: 2.1238 - val_accuracy: 0.7867\n",
            "Epoch 37/50\n",
            "625/625 [==============================] - 4s 6ms/step - loss: 0.0195 - accuracy: 0.9914 - val_loss: 2.1722 - val_accuracy: 0.7858\n",
            "Epoch 38/50\n",
            "625/625 [==============================] - 4s 6ms/step - loss: 0.0265 - accuracy: 0.9891 - val_loss: 2.1099 - val_accuracy: 0.7930\n",
            "Epoch 39/50\n",
            "625/625 [==============================] - 4s 6ms/step - loss: 0.0298 - accuracy: 0.9878 - val_loss: 2.1872 - val_accuracy: 0.7922\n",
            "Epoch 40/50\n",
            "625/625 [==============================] - 4s 6ms/step - loss: 0.0245 - accuracy: 0.9897 - val_loss: 2.1497 - val_accuracy: 0.7898\n",
            "Epoch 41/50\n",
            "625/625 [==============================] - 4s 6ms/step - loss: 0.0184 - accuracy: 0.9918 - val_loss: 2.2793 - val_accuracy: 0.7886\n",
            "Epoch 42/50\n",
            "625/625 [==============================] - 4s 6ms/step - loss: 0.0184 - accuracy: 0.9920 - val_loss: 2.3593 - val_accuracy: 0.7910\n",
            "Epoch 43/50\n",
            "625/625 [==============================] - 4s 6ms/step - loss: 0.0220 - accuracy: 0.9904 - val_loss: 2.4389 - val_accuracy: 0.7836\n",
            "Epoch 44/50\n",
            "625/625 [==============================] - 4s 6ms/step - loss: 0.0244 - accuracy: 0.9898 - val_loss: 2.4014 - val_accuracy: 0.7882\n",
            "Epoch 45/50\n",
            "625/625 [==============================] - 4s 6ms/step - loss: 0.0266 - accuracy: 0.9888 - val_loss: 2.2693 - val_accuracy: 0.7927\n",
            "Epoch 46/50\n",
            "625/625 [==============================] - 4s 6ms/step - loss: 0.0208 - accuracy: 0.9912 - val_loss: 2.3348 - val_accuracy: 0.7925\n",
            "Epoch 47/50\n",
            "625/625 [==============================] - 4s 6ms/step - loss: 0.0160 - accuracy: 0.9927 - val_loss: 2.3464 - val_accuracy: 0.7955\n",
            "Epoch 48/50\n",
            "625/625 [==============================] - 4s 6ms/step - loss: 0.0146 - accuracy: 0.9929 - val_loss: 2.6435 - val_accuracy: 0.7891\n",
            "Epoch 49/50\n",
            "625/625 [==============================] - 4s 6ms/step - loss: 0.0189 - accuracy: 0.9912 - val_loss: 2.4217 - val_accuracy: 0.7913\n",
            "Epoch 50/50\n",
            "625/625 [==============================] - 4s 6ms/step - loss: 0.0381 - accuracy: 0.9857 - val_loss: 2.4737 - val_accuracy: 0.7921\n"
          ],
          "name": "stdout"
        }
      ]
    },
    {
      "cell_type": "code",
      "metadata": {
        "colab_type": "code",
        "id": "g9DC6dmLF8DC",
        "colab": {
          "base_uri": "https://localhost:8080/",
          "height": 542
        },
        "outputId": "fe7555a0-0b15-4386-94d1-108574753d22"
      },
      "source": [
        "import matplotlib.pyplot as plt\n",
        "\n",
        "\n",
        "def plot_graphs(history, string):\n",
        "  plt.plot(history.history[string])\n",
        "  plt.plot(history.history['val_'+string])\n",
        "  plt.xlabel(\"Epochs\")\n",
        "  plt.ylabel(string)\n",
        "  plt.legend([string, 'val_'+string])\n",
        "  plt.show()\n",
        "\n",
        "plot_graphs(history, 'accuracy')\n",
        "plot_graphs(history, 'loss')"
      ],
      "execution_count": 3,
      "outputs": [
        {
          "output_type": "display_data",
          "data": {
            "image/png": "[encoded data removed]",
            "text/plain": [
              "<Figure size 432x288 with 1 Axes>"
            ]
          },
          "metadata": {
            "tags": [],
            "needs_background": "light"
          }
        },
        {
          "output_type": "display_data",
          "data": {
            "image/png": "[encoded data removed]",
            "text/plain": [
              "<Figure size 432x288 with 1 Axes>"
            ]
          },
          "metadata": {
            "tags": [],
            "needs_background": "light"
          }
        }
      ]
    },
    {
      "cell_type": "code",
      "metadata": {
        "colab_type": "code",
        "id": "7ZEZIUppGhdi",
        "colab": {}
      },
      "source": [
        "model.save(\"test.h5\")"
      ],
      "execution_count": 4,
      "outputs": []
    }
  ]
}