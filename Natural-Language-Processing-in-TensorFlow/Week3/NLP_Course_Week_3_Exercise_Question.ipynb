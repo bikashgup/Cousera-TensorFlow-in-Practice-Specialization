{
  "nbformat": 4,
  "nbformat_minor": 0,
  "metadata": {
    "accelerator": "GPU",
    "colab": {
      "name": "NLP Course - Week 3 Exercise Question.ipynb",
      "provenance": [],
      "toc_visible": true
    },
    "kernelspec": {
      "display_name": "Python 3",
      "name": "python3"
    }
  },
  "cells": [
    {
      "cell_type": "code",
      "metadata": {
        "id": "zX4Kg8DUTKWO",
        "colab_type": "code",
        "colab": {}
      },
      "source": [
        "#@title Licensed under the Apache License, Version 2.0 (the \"License\");\n",
        "# you may not use this file except in compliance with the License.\n",
        "# You may obtain a copy of the License at\n",
        "#\n",
        "# https://www.apache.org/licenses/LICENSE-2.0\n",
        "#\n",
        "# Unless required by applicable law or agreed to in writing, software\n",
        "# distributed under the License is distributed on an \"AS IS\" BASIS,\n",
        "# WITHOUT WARRANTIES OR CONDITIONS OF ANY KIND, either express or implied.\n",
        "# See the License for the specific language governing permissions and\n",
        "# limitations under the License."
      ],
      "execution_count": 1,
      "outputs": []
    },
    {
      "cell_type": "code",
      "metadata": {
        "colab_type": "code",
        "id": "hmA6EzkQJ5jt",
        "colab": {}
      },
      "source": [
        "import json\n",
        "import tensorflow as tf\n",
        "import csv\n",
        "import random\n",
        "import numpy as np\n",
        "\n",
        "from tensorflow.keras.preprocessing.text import Tokenizer\n",
        "from tensorflow.keras.preprocessing.sequence import pad_sequences\n",
        "from tensorflow.keras.utils import to_categorical\n",
        "from tensorflow.keras import regularizers\n",
        "\n",
        "\n",
        "embedding_dim = 100\n",
        "max_length = 16\n",
        "trunc_type='post'\n",
        "padding_type='post'\n",
        "oov_tok = \"<OOV>\"\n",
        "training_size = 160000#Your dataset size here. Experiment using smaller values (i.e. 16000), but don't forget to train on at least 160000 to see the best effects\n",
        "test_portion=.1\n",
        "\n",
        "corpus = []\n"
      ],
      "execution_count": 2,
      "outputs": []
    },
    {
      "cell_type": "code",
      "metadata": {
        "colab_type": "code",
        "id": "bM0l_dORKqE0",
        "colab": {
          "base_uri": "https://localhost:8080/",
          "height": 196
        },
        "outputId": "a358755b-bb34-480a-ef6d-d8bcfdf40fc0"
      },
      "source": [
        "# Note that I cleaned the Stanford dataset to remove LATIN1 encoding to make it easier for Python CSV reader\n",
        "# You can do that yourself with:\n",
        "# iconv -f LATIN1 -t UTF8 training.1600000.processed.noemoticon.csv -o training_cleaned.csv\n",
        "# I then hosted it on my site to make it easier to use in this notebook\n",
        "\n",
        "!wget --no-check-certificate \\\n",
        "    https://storage.googleapis.com/laurencemoroney-blog.appspot.com/training_cleaned.csv \\\n",
        "    -O /tmp/training_cleaned.csv\n",
        "\n",
        "num_sentences = 0\n",
        "\n",
        "with open(\"/tmp/training_cleaned.csv\") as csvfile:\n",
        "    reader = csv.reader(csvfile, delimiter=',')\n",
        "    for row in reader:\n",
        "      # Your Code here. Create list items where the first item is the text, found in row[5], and the second is the label. Note that the label is a '0' or a '4' in the text. When it's the former, make\n",
        "      # your label to be 0, otherwise 1. Keep a count of the number of sentences in num_sentences\n",
        "        list_item=[]\n",
        "        # YOUR CODE HERE\n",
        "        list_item.append(row[5])\n",
        "        this_label=row[0]\n",
        "        if this_label=='0':\n",
        "            list_item.append(0)\n",
        "        else:\n",
        "            list_item.append(1)\n",
        "        num_sentences = num_sentences + 1\n",
        "        corpus.append(list_item)\n"
      ],
      "execution_count": 3,
      "outputs": [
        {
          "output_type": "stream",
          "text": [
            "--2020-08-20 05:36:20--  https://storage.googleapis.com/laurencemoroney-blog.appspot.com/training_cleaned.csv\n",
            "Resolving storage.googleapis.com (storage.googleapis.com)... 108.177.119.128, 108.177.126.128, 108.177.127.128, ...\n",
            "Connecting to storage.googleapis.com (storage.googleapis.com)|108.177.119.128|:443... connected.\n",
            "HTTP request sent, awaiting response... 200 OK\n",
            "Length: 238942690 (228M) [application/octet-stream]\n",
            "Saving to: ‘/tmp/training_cleaned.csv’\n",
            "\n",
            "/tmp/training_clean 100%[===================>] 227.87M  69.7MB/s    in 3.3s    \n",
            "\n",
            "2020-08-20 05:36:24 (69.7 MB/s) - ‘/tmp/training_cleaned.csv’ saved [238942690/238942690]\n",
            "\n"
          ],
          "name": "stdout"
        }
      ]
    },
    {
      "cell_type": "code",
      "metadata": {
        "colab_type": "code",
        "id": "3kxblBUjEUX-",
        "colab": {
          "base_uri": "https://localhost:8080/",
          "height": 66
        },
        "outputId": "6451584a-2d57-4ca9-fc63-a828eaef221a"
      },
      "source": [
        "print(num_sentences)\n",
        "print(len(corpus))\n",
        "print(corpus[1])\n",
        "\n",
        "# Expected Output:\n",
        "# 1600000\n",
        "# 1600000\n",
        "# [\"is upset that he can't update his Facebook by texting it... and might cry as a result  School today also. Blah!\", 0]"
      ],
      "execution_count": 4,
      "outputs": [
        {
          "output_type": "stream",
          "text": [
            "1600000\n",
            "1600000\n",
            "[\"is upset that he can't update his Facebook by texting it... and might cry as a result  School today also. Blah!\", 0]\n"
          ],
          "name": "stdout"
        }
      ]
    },
    {
      "cell_type": "code",
      "metadata": {
        "colab_type": "code",
        "id": "ohOGz24lsNAD",
        "colab": {}
      },
      "source": [
        "sentences=[]\n",
        "labels=[]\n",
        "random.shuffle(corpus)\n",
        "for x in range(training_size):\n",
        "    sentences.append(corpus[x][0])\n",
        "    labels.append(corpus[x][1])\n",
        "\n",
        "\n",
        "tokenizer = Tokenizer()\n",
        "tokenizer.fit_on_texts(sentences)\n",
        "\n",
        "word_index = tokenizer.word_index\n",
        "vocab_size=len(word_index)\n",
        "\n",
        "sequences = tokenizer.texts_to_sequences(sentences)\n",
        "padded = pad_sequences(sequences, maxlen=max_length, padding=padding_type, truncating=trunc_type)\n",
        "\n",
        "split = int(test_portion * training_size)\n",
        "\n",
        "test_sequences = padded[0:split]\n",
        "training_sequences = padded[split:training_size]\n",
        "test_labels = labels[0:split]\n",
        "training_labels = labels[split:training_size]"
      ],
      "execution_count": 5,
      "outputs": []
    },
    {
      "cell_type": "code",
      "metadata": {
        "colab_type": "code",
        "id": "gIrtRem1En3N",
        "colab": {
          "base_uri": "https://localhost:8080/",
          "height": 50
        },
        "outputId": "43fb7eb0-7655-4952-ee83-ec3bb494a996"
      },
      "source": [
        "print(vocab_size)\n",
        "print(word_index['i'])\n",
        "# Expected Output\n",
        "# 138858\n",
        "# 1"
      ],
      "execution_count": 6,
      "outputs": [
        {
          "output_type": "stream",
          "text": [
            "139177\n",
            "1\n"
          ],
          "name": "stdout"
        }
      ]
    },
    {
      "cell_type": "code",
      "metadata": {
        "colab_type": "code",
        "id": "C1zdgJkusRh0",
        "colab": {
          "base_uri": "https://localhost:8080/",
          "height": 196
        },
        "outputId": "ea27ccf8-e87d-4a1a-dd19-399e4923fd0b"
      },
      "source": [
        "# Note this is the 100 dimension version of GloVe from Stanford\n",
        "# I unzipped and hosted it on my site to make this notebook easier\n",
        "!wget --no-check-certificate \\\n",
        "    https://storage.googleapis.com/laurencemoroney-blog.appspot.com/glove.6B.100d.txt \\\n",
        "    -O /tmp/glove.6B.100d.txt\n",
        "embeddings_index = {};\n",
        "with open('/tmp/glove.6B.100d.txt') as f:\n",
        "    for line in f:\n",
        "        values = line.split();\n",
        "        word = values[0];\n",
        "        coefs = np.asarray(values[1:], dtype='float32');\n",
        "        embeddings_index[word] = coefs;\n",
        "\n",
        "embeddings_matrix = np.zeros((vocab_size+1, embedding_dim));\n",
        "for word, i in word_index.items():\n",
        "    embedding_vector = embeddings_index.get(word);\n",
        "    if embedding_vector is not None:\n",
        "        embeddings_matrix[i] = embedding_vector;"
      ],
      "execution_count": 7,
      "outputs": [
        {
          "output_type": "stream",
          "text": [
            "--2020-08-20 05:37:49--  https://storage.googleapis.com/laurencemoroney-blog.appspot.com/glove.6B.100d.txt\n",
            "Resolving storage.googleapis.com (storage.googleapis.com)... 108.177.126.128, 74.125.143.128, 173.194.69.128, ...\n",
            "Connecting to storage.googleapis.com (storage.googleapis.com)|108.177.126.128|:443... connected.\n",
            "HTTP request sent, awaiting response... 200 OK\n",
            "Length: 347116733 (331M) [text/plain]\n",
            "Saving to: ‘/tmp/glove.6B.100d.txt’\n",
            "\n",
            "/tmp/glove.6B.100d. 100%[===================>] 331.04M  61.4MB/s    in 5.4s    \n",
            "\n",
            "2020-08-20 05:37:55 (61.4 MB/s) - ‘/tmp/glove.6B.100d.txt’ saved [347116733/347116733]\n",
            "\n"
          ],
          "name": "stdout"
        }
      ]
    },
    {
      "cell_type": "code",
      "metadata": {
        "colab_type": "code",
        "id": "71NLk_lpFLNt",
        "colab": {
          "base_uri": "https://localhost:8080/",
          "height": 33
        },
        "outputId": "1a26a839-c421-4f0f-fc97-90ad97c25ea1"
      },
      "source": [
        "print(len(embeddings_matrix))\n",
        "# Expected Output\n",
        "# 138859"
      ],
      "execution_count": 8,
      "outputs": [
        {
          "output_type": "stream",
          "text": [
            "139178\n"
          ],
          "name": "stdout"
        }
      ]
    },
    {
      "cell_type": "code",
      "metadata": {
        "colab_type": "code",
        "id": "iKKvbuEBOGFz",
        "colab": {
          "base_uri": "https://localhost:8080/",
          "height": 1000
        },
        "outputId": "ab2f0f32-7d73-4045-b5db-63655e927179"
      },
      "source": [
        "model = tf.keras.Sequential([\n",
        "    tf.keras.layers.Embedding(vocab_size+1, embedding_dim, input_length=max_length, weights=[embeddings_matrix], trainable=False),\n",
        "    tf.keras.layers.Dropout(0.2),\n",
        "    tf.keras.layers.Conv1D(64, 5, activation='relu'),\n",
        "    tf.keras.layers.MaxPooling1D(pool_size=4),\n",
        "    tf.keras.layers.LSTM(64),\n",
        "    tf.keras.layers.Dense(1, activation='sigmoid')\n",
        "])\n",
        "model.compile(loss='binary_crossentropy',optimizer='adam',metrics=['accuracy'])\n",
        "model.summary()\n",
        "\n",
        "num_epochs = 50\n",
        "\n",
        "\n",
        "training_padded = np.array(training_sequences)\n",
        "training_labels = np.array(training_labels)\n",
        "testing_padded = np.array(test_sequences)\n",
        "testing_labels = np.array(test_labels)\n",
        "\n",
        "history = model.fit(training_padded, training_labels, epochs=num_epochs, validation_data=(testing_padded, testing_labels), verbose=2)\n",
        "\n",
        "print(\"Training Complete\")\n"
      ],
      "execution_count": 11,
      "outputs": [
        {
          "output_type": "stream",
          "text": [
            "Model: \"sequential_2\"\n",
            "_________________________________________________________________\n",
            "Layer (type)                 Output Shape              Param #   \n",
            "=================================================================\n",
            "embedding_2 (Embedding)      (None, 16, 100)           13917800  \n",
            "_________________________________________________________________\n",
            "dropout_2 (Dropout)          (None, 16, 100)           0         \n",
            "_________________________________________________________________\n",
            "conv1d_2 (Conv1D)            (None, 12, 64)            32064     \n",
            "_________________________________________________________________\n",
            "max_pooling1d_2 (MaxPooling1 (None, 3, 64)             0         \n",
            "_________________________________________________________________\n",
            "lstm_2 (LSTM)                (None, 64)                33024     \n",
            "_________________________________________________________________\n",
            "dense_2 (Dense)              (None, 1)                 65        \n",
            "=================================================================\n",
            "Total params: 13,982,953\n",
            "Trainable params: 65,153\n",
            "Non-trainable params: 13,917,800\n",
            "_________________________________________________________________\n",
            "Epoch 1/50\n",
            "4500/4500 - 16s - loss: 0.5694 - accuracy: 0.6977 - val_loss: 0.5226 - val_accuracy: 0.7368\n",
            "Epoch 2/50\n",
            "4500/4500 - 16s - loss: 0.5312 - accuracy: 0.7288 - val_loss: 0.5059 - val_accuracy: 0.7475\n",
            "Epoch 3/50\n",
            "4500/4500 - 15s - loss: 0.5147 - accuracy: 0.7406 - val_loss: 0.4989 - val_accuracy: 0.7524\n",
            "Epoch 4/50\n",
            "4500/4500 - 15s - loss: 0.5017 - accuracy: 0.7495 - val_loss: 0.4948 - val_accuracy: 0.7541\n",
            "Epoch 5/50\n",
            "4500/4500 - 15s - loss: 0.4945 - accuracy: 0.7553 - val_loss: 0.4959 - val_accuracy: 0.7538\n",
            "Epoch 6/50\n",
            "4500/4500 - 15s - loss: 0.4871 - accuracy: 0.7591 - val_loss: 0.4920 - val_accuracy: 0.7576\n",
            "Epoch 7/50\n",
            "4500/4500 - 16s - loss: 0.4812 - accuracy: 0.7633 - val_loss: 0.4957 - val_accuracy: 0.7535\n",
            "Epoch 8/50\n",
            "4500/4500 - 15s - loss: 0.4772 - accuracy: 0.7659 - val_loss: 0.4940 - val_accuracy: 0.7559\n",
            "Epoch 9/50\n",
            "4500/4500 - 15s - loss: 0.4711 - accuracy: 0.7693 - val_loss: 0.5066 - val_accuracy: 0.7458\n",
            "Epoch 10/50\n",
            "4500/4500 - 15s - loss: 0.4659 - accuracy: 0.7722 - val_loss: 0.4955 - val_accuracy: 0.7559\n",
            "Epoch 11/50\n",
            "4500/4500 - 15s - loss: 0.4635 - accuracy: 0.7749 - val_loss: 0.4906 - val_accuracy: 0.7557\n",
            "Epoch 12/50\n",
            "4500/4500 - 15s - loss: 0.4600 - accuracy: 0.7765 - val_loss: 0.4935 - val_accuracy: 0.7553\n",
            "Epoch 13/50\n",
            "4500/4500 - 15s - loss: 0.4578 - accuracy: 0.7770 - val_loss: 0.4959 - val_accuracy: 0.7516\n",
            "Epoch 14/50\n",
            "4500/4500 - 15s - loss: 0.4560 - accuracy: 0.7783 - val_loss: 0.4951 - val_accuracy: 0.7521\n",
            "Epoch 15/50\n",
            "4500/4500 - 15s - loss: 0.4539 - accuracy: 0.7791 - val_loss: 0.4971 - val_accuracy: 0.7548\n",
            "Epoch 16/50\n",
            "4500/4500 - 15s - loss: 0.4518 - accuracy: 0.7823 - val_loss: 0.4925 - val_accuracy: 0.7556\n",
            "Epoch 17/50\n",
            "4500/4500 - 15s - loss: 0.4492 - accuracy: 0.7820 - val_loss: 0.5020 - val_accuracy: 0.7529\n",
            "Epoch 18/50\n",
            "4500/4500 - 15s - loss: 0.4477 - accuracy: 0.7836 - val_loss: 0.4972 - val_accuracy: 0.7515\n",
            "Epoch 19/50\n",
            "4500/4500 - 15s - loss: 0.4470 - accuracy: 0.7849 - val_loss: 0.4950 - val_accuracy: 0.7515\n",
            "Epoch 20/50\n",
            "4500/4500 - 15s - loss: 0.4449 - accuracy: 0.7853 - val_loss: 0.4985 - val_accuracy: 0.7520\n",
            "Epoch 21/50\n",
            "4500/4500 - 15s - loss: 0.4426 - accuracy: 0.7871 - val_loss: 0.5050 - val_accuracy: 0.7497\n",
            "Epoch 22/50\n",
            "4500/4500 - 15s - loss: 0.4434 - accuracy: 0.7871 - val_loss: 0.5011 - val_accuracy: 0.7500\n",
            "Epoch 23/50\n",
            "4500/4500 - 15s - loss: 0.4414 - accuracy: 0.7886 - val_loss: 0.5059 - val_accuracy: 0.7505\n",
            "Epoch 24/50\n",
            "4500/4500 - 15s - loss: 0.4393 - accuracy: 0.7891 - val_loss: 0.5037 - val_accuracy: 0.7519\n",
            "Epoch 25/50\n",
            "4500/4500 - 15s - loss: 0.4391 - accuracy: 0.7885 - val_loss: 0.5053 - val_accuracy: 0.7509\n",
            "Epoch 26/50\n",
            "4500/4500 - 15s - loss: 0.4387 - accuracy: 0.7895 - val_loss: 0.5110 - val_accuracy: 0.7503\n",
            "Epoch 27/50\n",
            "4500/4500 - 14s - loss: 0.4364 - accuracy: 0.7903 - val_loss: 0.5079 - val_accuracy: 0.7498\n",
            "Epoch 28/50\n",
            "4500/4500 - 16s - loss: 0.4369 - accuracy: 0.7893 - val_loss: 0.5073 - val_accuracy: 0.7504\n",
            "Epoch 29/50\n",
            "4500/4500 - 14s - loss: 0.4351 - accuracy: 0.7922 - val_loss: 0.5056 - val_accuracy: 0.7510\n",
            "Epoch 30/50\n",
            "4500/4500 - 14s - loss: 0.4343 - accuracy: 0.7915 - val_loss: 0.5057 - val_accuracy: 0.7519\n",
            "Epoch 31/50\n",
            "4500/4500 - 14s - loss: 0.4333 - accuracy: 0.7927 - val_loss: 0.5047 - val_accuracy: 0.7485\n",
            "Epoch 32/50\n",
            "4500/4500 - 14s - loss: 0.4342 - accuracy: 0.7916 - val_loss: 0.5136 - val_accuracy: 0.7456\n",
            "Epoch 33/50\n",
            "4500/4500 - 14s - loss: 0.4339 - accuracy: 0.7920 - val_loss: 0.5089 - val_accuracy: 0.7483\n",
            "Epoch 34/50\n",
            "4500/4500 - 14s - loss: 0.4336 - accuracy: 0.7936 - val_loss: 0.5099 - val_accuracy: 0.7500\n",
            "Epoch 35/50\n",
            "4500/4500 - 14s - loss: 0.4300 - accuracy: 0.7953 - val_loss: 0.5087 - val_accuracy: 0.7491\n",
            "Epoch 36/50\n",
            "4500/4500 - 14s - loss: 0.4324 - accuracy: 0.7943 - val_loss: 0.5107 - val_accuracy: 0.7480\n",
            "Epoch 37/50\n",
            "4500/4500 - 14s - loss: 0.4319 - accuracy: 0.7935 - val_loss: 0.5162 - val_accuracy: 0.7507\n",
            "Epoch 38/50\n",
            "4500/4500 - 14s - loss: 0.4323 - accuracy: 0.7937 - val_loss: 0.5065 - val_accuracy: 0.7482\n",
            "Epoch 39/50\n",
            "4500/4500 - 14s - loss: 0.4303 - accuracy: 0.7952 - val_loss: 0.5148 - val_accuracy: 0.7473\n",
            "Epoch 40/50\n",
            "4500/4500 - 14s - loss: 0.4304 - accuracy: 0.7955 - val_loss: 0.5067 - val_accuracy: 0.7485\n",
            "Epoch 41/50\n",
            "4500/4500 - 14s - loss: 0.4290 - accuracy: 0.7952 - val_loss: 0.5122 - val_accuracy: 0.7507\n",
            "Epoch 42/50\n",
            "4500/4500 - 14s - loss: 0.4280 - accuracy: 0.7953 - val_loss: 0.5155 - val_accuracy: 0.7475\n",
            "Epoch 43/50\n",
            "4500/4500 - 14s - loss: 0.4281 - accuracy: 0.7950 - val_loss: 0.5143 - val_accuracy: 0.7494\n",
            "Epoch 44/50\n",
            "4500/4500 - 14s - loss: 0.4295 - accuracy: 0.7955 - val_loss: 0.5091 - val_accuracy: 0.7506\n",
            "Epoch 45/50\n",
            "4500/4500 - 14s - loss: 0.4277 - accuracy: 0.7960 - val_loss: 0.5113 - val_accuracy: 0.7474\n",
            "Epoch 46/50\n",
            "4500/4500 - 14s - loss: 0.4293 - accuracy: 0.7954 - val_loss: 0.5121 - val_accuracy: 0.7480\n",
            "Epoch 47/50\n",
            "4500/4500 - 15s - loss: 0.4282 - accuracy: 0.7971 - val_loss: 0.5075 - val_accuracy: 0.7497\n",
            "Epoch 48/50\n",
            "4500/4500 - 14s - loss: 0.4271 - accuracy: 0.7964 - val_loss: 0.5095 - val_accuracy: 0.7507\n",
            "Epoch 49/50\n",
            "4500/4500 - 15s - loss: 0.4276 - accuracy: 0.7960 - val_loss: 0.5164 - val_accuracy: 0.7488\n",
            "Epoch 50/50\n",
            "4500/4500 - 15s - loss: 0.4275 - accuracy: 0.7960 - val_loss: 0.5123 - val_accuracy: 0.7475\n",
            "Training Complete\n"
          ],
          "name": "stdout"
        }
      ]
    },
    {
      "cell_type": "code",
      "metadata": {
        "colab_type": "code",
        "id": "qxju4ItJKO8F",
        "colab": {
          "base_uri": "https://localhost:8080/",
          "height": 605
        },
        "outputId": "0bac0800-7a97-4bb4-ed5f-cda13a23b5f3"
      },
      "source": [
        "import matplotlib.image  as mpimg\n",
        "import matplotlib.pyplot as plt\n",
        "\n",
        "#-----------------------------------------------------------\n",
        "# Retrieve a list of list results on training and test data\n",
        "# sets for each training epoch\n",
        "#-----------------------------------------------------------\n",
        "acc=history.history['accuracy']\n",
        "val_acc=history.history['val_accuracy']\n",
        "loss=history.history['loss']\n",
        "val_loss=history.history['val_loss']\n",
        "\n",
        "epochs=range(len(acc)) # Get number of epochs\n",
        "\n",
        "#------------------------------------------------\n",
        "# Plot training and validation accuracy per epoch\n",
        "#------------------------------------------------\n",
        "plt.plot(epochs, acc, 'r')\n",
        "plt.plot(epochs, val_acc, 'b')\n",
        "plt.title('Training and validation accuracy')\n",
        "plt.xlabel(\"Epochs\")\n",
        "plt.ylabel(\"Accuracy\")\n",
        "plt.legend([\"Accuracy\", \"Validation Accuracy\"])\n",
        "\n",
        "plt.figure()\n",
        "\n",
        "#------------------------------------------------\n",
        "# Plot training and validation loss per epoch\n",
        "#------------------------------------------------\n",
        "plt.plot(epochs, loss, 'r')\n",
        "plt.plot(epochs, val_loss, 'b')\n",
        "plt.title('Training and validation loss')\n",
        "plt.xlabel(\"Epochs\")\n",
        "plt.ylabel(\"Loss\")\n",
        "plt.legend([\"Loss\", \"Validation Loss\"])\n",
        "\n",
        "plt.figure()\n",
        "\n",
        "\n",
        "# Expected Output\n",
        "# A chart where the validation loss does not increase sharply!"
      ],
      "execution_count": 12,
      "outputs": [
        {
          "output_type": "execute_result",
          "data": {
            "text/plain": [
              "<Figure size 432x288 with 0 Axes>"
            ]
          },
          "metadata": {
            "tags": []
          },
          "execution_count": 12
        },
        {
          "output_type": "display_data",
          "data": {
            "image/png": "[encoded data removed]",
            "text/plain": [
              "<Figure size 432x288 with 1 Axes>"
            ]
          },
          "metadata": {
            "tags": [],
            "needs_background": "light"
          }
        },
        {
          "output_type": "display_data",
          "data": {
            "image/png": "[encoded data removed]",
            "text/plain": [
              "<Figure size 432x288 with 1 Axes>"
            ]
          },
          "metadata": {
            "tags": [],
            "needs_background": "light"
          }
        },
        {
          "output_type": "display_data",
          "data": {
            "text/plain": [
              "<Figure size 432x288 with 0 Axes>"
            ]
          },
          "metadata": {
            "tags": []
          }
        }
      ]
    }
  ]
}